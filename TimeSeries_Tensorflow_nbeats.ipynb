{
  "cells": [
    {
      "cell_type": "markdown",
      "metadata": {
        "id": "JhstQRR1VQBB"
      },
      "source": [
        "## Importing the libraries"
      ]
    },
    {
      "cell_type": "code",
      "execution_count": null,
      "metadata": {
        "colab": {
          "base_uri": "https://localhost:8080/"
        },
        "id": "-xMH0_avluHW",
        "outputId": "61171229-142d-4200-d68a-6454c38bf514"
      },
      "outputs": [
        {
          "output_type": "stream",
          "name": "stderr",
          "text": [
            "/usr/local/lib/python3.7/dist-packages/statsmodels/tools/_testing.py:19: FutureWarning: pandas.util.testing is deprecated. Use the functions in the public API at pandas.testing instead.\n",
            "  import pandas.util.testing as tm\n"
          ]
        }
      ],
      "source": [
        "import pandas as pd\n",
        "import numpy as np\n",
        "import tensorflow as tf\n",
        "import matplotlib.pyplot as plt\n",
        "\n",
        "\n",
        "from statsmodels.tsa.seasonal import seasonal_decompose\n",
        "from pandas.plotting import autocorrelation_plot\n",
        "from statsmodels.graphics.tsaplots import plot_acf\n",
        "from statsmodels.graphics.tsaplots import plot_pacf\n",
        "\n",
        "from tensorflow import keras\n",
        "from tensorflow.keras import layers\n",
        "import tensorflow.keras.backend as K\n",
        "from sklearn.metrics import mean_absolute_error\n",
        "\n",
        "import os\n",
        "\n",
        "import warnings\n",
        "warnings.filterwarnings('ignore')\n",
        "\n",
        "import logging\n",
        "logger = logging.getLogger()\n",
        "logger.setLevel(logging.CRITICAL)\n",
        "\n",
        "import logging, sys\n",
        "logging.disable(sys.maxsize)\n",
        "\n",
        "plt.rcParams[\"figure.figsize\"] = (10,7)"
      ]
    },
    {
      "cell_type": "markdown",
      "metadata": {
        "id": "9ZckQ7MSUWaM"
      },
      "source": [
        "\n",
        "## Get Data\n",
        "\n",
        "### To download the historical price data of Nifty50 and try and predict the price of Nifty50. Use the below link address and wget to download the data\n",
        "\n"
      ]
    },
    {
      "cell_type": "markdown",
      "metadata": {
        "id": "eQhN7U44iHmh"
      },
      "source": [
        "Note \n",
        "\n",
        "'https://raw.githubusercontent.com/mrdbourke/tensorflow-deep-learning/main/extras/BTC_USD_2013-10-01_2021-05-18-CoinDesk.csv'"
      ]
    },
    {
      "cell_type": "code",
      "execution_count": null,
      "metadata": {
        "colab": {
          "base_uri": "https://localhost:8080/"
        },
        "id": "MVElpLhbUQC3",
        "outputId": "db5fa794-5f37-4b30-ed9e-3f8a7575e1ec"
      },
      "outputs": [
        {
          "output_type": "stream",
          "name": "stdout",
          "text": [
            "--2022-06-19 13:40:37--  https://raw.githubusercontent.com/mrdbourke/tensorflow-deep-learning/main/extras/BTC_USD_2013-10-01_2021-05-18-CoinDesk.csv\n",
            "Resolving raw.githubusercontent.com (raw.githubusercontent.com)... 185.199.108.133, 185.199.109.133, 185.199.110.133, ...\n",
            "Connecting to raw.githubusercontent.com (raw.githubusercontent.com)|185.199.108.133|:443... connected.\n",
            "HTTP request sent, awaiting response... 200 OK\n",
            "Length: 178509 (174K) [text/plain]\n",
            "Saving to: ‘BTC_USD_2013-10-01_2021-05-18-CoinDesk.csv’\n",
            "\n",
            "\r          BTC_USD_2   0%[                    ]       0  --.-KB/s               \rBTC_USD_2013-10-01_ 100%[===================>] 174.33K  --.-KB/s    in 0.02s   \n",
            "\n",
            "2022-06-19 13:40:37 (7.21 MB/s) - ‘BTC_USD_2013-10-01_2021-05-18-CoinDesk.csv’ saved [178509/178509]\n",
            "\n"
          ]
        }
      ],
      "source": [
        "!wget https://raw.githubusercontent.com/mrdbourke/tensorflow-deep-learning/main/extras/BTC_USD_2013-10-01_2021-05-18-CoinDesk.csv"
      ]
    },
    {
      "cell_type": "code",
      "execution_count": null,
      "metadata": {
        "id": "mMR_EIBCmldY"
      },
      "outputs": [],
      "source": [
        "# # Get the Nifty50 data from gdrive\n",
        "\n",
        "# from google.colab import drive\n",
        "# drive.mount('/content/gdrive')\n",
        "\n",
        "# !cp '/content/gdrive/My Drive/NIFTY 50_Data.csv' 'Nifty_50_data.csv'"
      ]
    },
    {
      "cell_type": "markdown",
      "metadata": {
        "id": "9-yBXkQAVKjL"
      },
      "source": [
        "## Importing data with pandas\n",
        "\n",
        " \n",
        "\n",
        "*   And because our data has a date component, we'll tell pandas to parse the dates using the **parse_dates** parameter passing it the name our of the date column (\"Date\").\n",
        "*   To set the index as the date use the **index_col**\n",
        "\n"
      ]
    },
    {
      "cell_type": "code",
      "execution_count": null,
      "metadata": {
        "id": "v1tTtEw8cmdk"
      },
      "outputs": [],
      "source": [
        "# df = pd.read_csv('/content/Nifty_50_data.csv', \n",
        "#                  parse_dates = ['Date'],\n",
        "#                  index_col = 'Date')\n",
        "# df.head()\n",
        "\n"
      ]
    },
    {
      "cell_type": "code",
      "execution_count": null,
      "metadata": {
        "id": "poN2cK7Hc2az"
      },
      "outputs": [],
      "source": [
        "# df.tail()"
      ]
    },
    {
      "cell_type": "code",
      "execution_count": null,
      "metadata": {
        "id": "JR5JfAVE20Cs"
      },
      "outputs": [],
      "source": [
        "# df.info()"
      ]
    },
    {
      "cell_type": "markdown",
      "metadata": {
        "id": "wWvyeH79rI37"
      },
      "source": [
        "## Structuring and Formatting data \n"
      ]
    },
    {
      "cell_type": "code",
      "execution_count": null,
      "metadata": {
        "id": "L89pIk9sgQR_"
      },
      "outputs": [],
      "source": [
        "# # include missing dates in time series data and interpolate \n",
        "\n",
        "# print(str(df.index.min())[:10], str(df.index.max())[:10])\n",
        "\n",
        "# df_nifty = df['Close']\n",
        "# idx = pd.date_range(str(df.index.min())[:10], str(df.index.max())[:10])\n",
        "# df_nifty.index = pd.DatetimeIndex(df_nifty.index)\n",
        "# df_nifty = df_nifty.reindex(idx, fill_value=np.nan)\n",
        "# df_nifty = df_nifty.interpolate(method = 'nearest').round()\n",
        "# nifty_df = pd.DataFrame(df_nifty)\n",
        "# nifty_df"
      ]
    },
    {
      "cell_type": "code",
      "execution_count": null,
      "metadata": {
        "id": "AhG9j71rc5ya"
      },
      "outputs": [],
      "source": [
        "# df['Close'].plot()"
      ]
    },
    {
      "cell_type": "code",
      "execution_count": null,
      "metadata": {
        "colab": {
          "base_uri": "https://localhost:8080/",
          "height": 223
        },
        "id": "UVkz5FOQUQHo",
        "outputId": "dc3cff0f-0389-445a-8e4f-7e3295857218"
      },
      "outputs": [
        {
          "output_type": "execute_result",
          "data": {
            "text/plain": [
              "           Currency      Close  24h Open (USD)  24h High (USD)  24h Low (USD)\n",
              "Date                                                                         \n",
              "2013-10-01      BTC  123.65499       124.30466       124.75166      122.56349\n",
              "2013-10-02      BTC  125.45500       123.65499       125.75850      123.63383\n",
              "2013-10-03      BTC  108.58483       125.45500       125.66566       83.32833\n",
              "2013-10-04      BTC  118.67466       108.58483       118.67500      107.05816\n",
              "2013-10-05      BTC  121.33866       118.67466       121.93633      118.00566"
            ],
            "text/html": [
              "\n",
              "  <div id=\"df-ab5ba59e-395d-45b7-9d0c-59a0c680e743\">\n",
              "    <div class=\"colab-df-container\">\n",
              "      <div>\n",
              "<style scoped>\n",
              "    .dataframe tbody tr th:only-of-type {\n",
              "        vertical-align: middle;\n",
              "    }\n",
              "\n",
              "    .dataframe tbody tr th {\n",
              "        vertical-align: top;\n",
              "    }\n",
              "\n",
              "    .dataframe thead th {\n",
              "        text-align: right;\n",
              "    }\n",
              "</style>\n",
              "<table border=\"1\" class=\"dataframe\">\n",
              "  <thead>\n",
              "    <tr style=\"text-align: right;\">\n",
              "      <th></th>\n",
              "      <th>Currency</th>\n",
              "      <th>Close</th>\n",
              "      <th>24h Open (USD)</th>\n",
              "      <th>24h High (USD)</th>\n",
              "      <th>24h Low (USD)</th>\n",
              "    </tr>\n",
              "    <tr>\n",
              "      <th>Date</th>\n",
              "      <th></th>\n",
              "      <th></th>\n",
              "      <th></th>\n",
              "      <th></th>\n",
              "      <th></th>\n",
              "    </tr>\n",
              "  </thead>\n",
              "  <tbody>\n",
              "    <tr>\n",
              "      <th>2013-10-01</th>\n",
              "      <td>BTC</td>\n",
              "      <td>123.65499</td>\n",
              "      <td>124.30466</td>\n",
              "      <td>124.75166</td>\n",
              "      <td>122.56349</td>\n",
              "    </tr>\n",
              "    <tr>\n",
              "      <th>2013-10-02</th>\n",
              "      <td>BTC</td>\n",
              "      <td>125.45500</td>\n",
              "      <td>123.65499</td>\n",
              "      <td>125.75850</td>\n",
              "      <td>123.63383</td>\n",
              "    </tr>\n",
              "    <tr>\n",
              "      <th>2013-10-03</th>\n",
              "      <td>BTC</td>\n",
              "      <td>108.58483</td>\n",
              "      <td>125.45500</td>\n",
              "      <td>125.66566</td>\n",
              "      <td>83.32833</td>\n",
              "    </tr>\n",
              "    <tr>\n",
              "      <th>2013-10-04</th>\n",
              "      <td>BTC</td>\n",
              "      <td>118.67466</td>\n",
              "      <td>108.58483</td>\n",
              "      <td>118.67500</td>\n",
              "      <td>107.05816</td>\n",
              "    </tr>\n",
              "    <tr>\n",
              "      <th>2013-10-05</th>\n",
              "      <td>BTC</td>\n",
              "      <td>121.33866</td>\n",
              "      <td>118.67466</td>\n",
              "      <td>121.93633</td>\n",
              "      <td>118.00566</td>\n",
              "    </tr>\n",
              "  </tbody>\n",
              "</table>\n",
              "</div>\n",
              "      <button class=\"colab-df-convert\" onclick=\"convertToInteractive('df-ab5ba59e-395d-45b7-9d0c-59a0c680e743')\"\n",
              "              title=\"Convert this dataframe to an interactive table.\"\n",
              "              style=\"display:none;\">\n",
              "        \n",
              "  <svg xmlns=\"http://www.w3.org/2000/svg\" height=\"24px\"viewBox=\"0 0 24 24\"\n",
              "       width=\"24px\">\n",
              "    <path d=\"M0 0h24v24H0V0z\" fill=\"none\"/>\n",
              "    <path d=\"M18.56 5.44l.94 2.06.94-2.06 2.06-.94-2.06-.94-.94-2.06-.94 2.06-2.06.94zm-11 1L8.5 8.5l.94-2.06 2.06-.94-2.06-.94L8.5 2.5l-.94 2.06-2.06.94zm10 10l.94 2.06.94-2.06 2.06-.94-2.06-.94-.94-2.06-.94 2.06-2.06.94z\"/><path d=\"M17.41 7.96l-1.37-1.37c-.4-.4-.92-.59-1.43-.59-.52 0-1.04.2-1.43.59L10.3 9.45l-7.72 7.72c-.78.78-.78 2.05 0 2.83L4 21.41c.39.39.9.59 1.41.59.51 0 1.02-.2 1.41-.59l7.78-7.78 2.81-2.81c.8-.78.8-2.07 0-2.86zM5.41 20L4 18.59l7.72-7.72 1.47 1.35L5.41 20z\"/>\n",
              "  </svg>\n",
              "      </button>\n",
              "      \n",
              "  <style>\n",
              "    .colab-df-container {\n",
              "      display:flex;\n",
              "      flex-wrap:wrap;\n",
              "      gap: 12px;\n",
              "    }\n",
              "\n",
              "    .colab-df-convert {\n",
              "      background-color: #E8F0FE;\n",
              "      border: none;\n",
              "      border-radius: 50%;\n",
              "      cursor: pointer;\n",
              "      display: none;\n",
              "      fill: #1967D2;\n",
              "      height: 32px;\n",
              "      padding: 0 0 0 0;\n",
              "      width: 32px;\n",
              "    }\n",
              "\n",
              "    .colab-df-convert:hover {\n",
              "      background-color: #E2EBFA;\n",
              "      box-shadow: 0px 1px 2px rgba(60, 64, 67, 0.3), 0px 1px 3px 1px rgba(60, 64, 67, 0.15);\n",
              "      fill: #174EA6;\n",
              "    }\n",
              "\n",
              "    [theme=dark] .colab-df-convert {\n",
              "      background-color: #3B4455;\n",
              "      fill: #D2E3FC;\n",
              "    }\n",
              "\n",
              "    [theme=dark] .colab-df-convert:hover {\n",
              "      background-color: #434B5C;\n",
              "      box-shadow: 0px 1px 3px 1px rgba(0, 0, 0, 0.15);\n",
              "      filter: drop-shadow(0px 1px 2px rgba(0, 0, 0, 0.3));\n",
              "      fill: #FFFFFF;\n",
              "    }\n",
              "  </style>\n",
              "\n",
              "      <script>\n",
              "        const buttonEl =\n",
              "          document.querySelector('#df-ab5ba59e-395d-45b7-9d0c-59a0c680e743 button.colab-df-convert');\n",
              "        buttonEl.style.display =\n",
              "          google.colab.kernel.accessAllowed ? 'block' : 'none';\n",
              "\n",
              "        async function convertToInteractive(key) {\n",
              "          const element = document.querySelector('#df-ab5ba59e-395d-45b7-9d0c-59a0c680e743');\n",
              "          const dataTable =\n",
              "            await google.colab.kernel.invokeFunction('convertToInteractive',\n",
              "                                                     [key], {});\n",
              "          if (!dataTable) return;\n",
              "\n",
              "          const docLinkHtml = 'Like what you see? Visit the ' +\n",
              "            '<a target=\"_blank\" href=https://colab.research.google.com/notebooks/data_table.ipynb>data table notebook</a>'\n",
              "            + ' to learn more about interactive tables.';\n",
              "          element.innerHTML = '';\n",
              "          dataTable['output_type'] = 'display_data';\n",
              "          await google.colab.output.renderOutput(dataTable, element);\n",
              "          const docLink = document.createElement('div');\n",
              "          docLink.innerHTML = docLinkHtml;\n",
              "          element.appendChild(docLink);\n",
              "        }\n",
              "      </script>\n",
              "    </div>\n",
              "  </div>\n",
              "  "
            ]
          },
          "metadata": {},
          "execution_count": 9
        }
      ],
      "source": [
        "df = pd.read_csv('/content/BTC_USD_2013-10-01_2021-05-18-CoinDesk.csv', \n",
        "                 parse_dates = ['Date'],\n",
        "                 index_col = 'Date')\n",
        "df.rename(columns={'Closing Price (USD)':'Close'}, inplace= True)\n",
        "df.head()"
      ]
    },
    {
      "cell_type": "code",
      "execution_count": null,
      "metadata": {
        "colab": {
          "base_uri": "https://localhost:8080/",
          "height": 223
        },
        "id": "-zITgWiF-WwA",
        "outputId": "89df74ca-6771-49ef-e00a-c565b8cddd07"
      },
      "outputs": [
        {
          "output_type": "execute_result",
          "data": {
            "text/plain": [
              "                Close\n",
              "Date                 \n",
              "2013-10-01  123.65499\n",
              "2013-10-02  125.45500\n",
              "2013-10-03  108.58483\n",
              "2013-10-04  118.67466\n",
              "2013-10-05  121.33866"
            ],
            "text/html": [
              "\n",
              "  <div id=\"df-72aee8bf-c9a6-4803-a44a-273251218d2d\">\n",
              "    <div class=\"colab-df-container\">\n",
              "      <div>\n",
              "<style scoped>\n",
              "    .dataframe tbody tr th:only-of-type {\n",
              "        vertical-align: middle;\n",
              "    }\n",
              "\n",
              "    .dataframe tbody tr th {\n",
              "        vertical-align: top;\n",
              "    }\n",
              "\n",
              "    .dataframe thead th {\n",
              "        text-align: right;\n",
              "    }\n",
              "</style>\n",
              "<table border=\"1\" class=\"dataframe\">\n",
              "  <thead>\n",
              "    <tr style=\"text-align: right;\">\n",
              "      <th></th>\n",
              "      <th>Close</th>\n",
              "    </tr>\n",
              "    <tr>\n",
              "      <th>Date</th>\n",
              "      <th></th>\n",
              "    </tr>\n",
              "  </thead>\n",
              "  <tbody>\n",
              "    <tr>\n",
              "      <th>2013-10-01</th>\n",
              "      <td>123.65499</td>\n",
              "    </tr>\n",
              "    <tr>\n",
              "      <th>2013-10-02</th>\n",
              "      <td>125.45500</td>\n",
              "    </tr>\n",
              "    <tr>\n",
              "      <th>2013-10-03</th>\n",
              "      <td>108.58483</td>\n",
              "    </tr>\n",
              "    <tr>\n",
              "      <th>2013-10-04</th>\n",
              "      <td>118.67466</td>\n",
              "    </tr>\n",
              "    <tr>\n",
              "      <th>2013-10-05</th>\n",
              "      <td>121.33866</td>\n",
              "    </tr>\n",
              "  </tbody>\n",
              "</table>\n",
              "</div>\n",
              "      <button class=\"colab-df-convert\" onclick=\"convertToInteractive('df-72aee8bf-c9a6-4803-a44a-273251218d2d')\"\n",
              "              title=\"Convert this dataframe to an interactive table.\"\n",
              "              style=\"display:none;\">\n",
              "        \n",
              "  <svg xmlns=\"http://www.w3.org/2000/svg\" height=\"24px\"viewBox=\"0 0 24 24\"\n",
              "       width=\"24px\">\n",
              "    <path d=\"M0 0h24v24H0V0z\" fill=\"none\"/>\n",
              "    <path d=\"M18.56 5.44l.94 2.06.94-2.06 2.06-.94-2.06-.94-.94-2.06-.94 2.06-2.06.94zm-11 1L8.5 8.5l.94-2.06 2.06-.94-2.06-.94L8.5 2.5l-.94 2.06-2.06.94zm10 10l.94 2.06.94-2.06 2.06-.94-2.06-.94-.94-2.06-.94 2.06-2.06.94z\"/><path d=\"M17.41 7.96l-1.37-1.37c-.4-.4-.92-.59-1.43-.59-.52 0-1.04.2-1.43.59L10.3 9.45l-7.72 7.72c-.78.78-.78 2.05 0 2.83L4 21.41c.39.39.9.59 1.41.59.51 0 1.02-.2 1.41-.59l7.78-7.78 2.81-2.81c.8-.78.8-2.07 0-2.86zM5.41 20L4 18.59l7.72-7.72 1.47 1.35L5.41 20z\"/>\n",
              "  </svg>\n",
              "      </button>\n",
              "      \n",
              "  <style>\n",
              "    .colab-df-container {\n",
              "      display:flex;\n",
              "      flex-wrap:wrap;\n",
              "      gap: 12px;\n",
              "    }\n",
              "\n",
              "    .colab-df-convert {\n",
              "      background-color: #E8F0FE;\n",
              "      border: none;\n",
              "      border-radius: 50%;\n",
              "      cursor: pointer;\n",
              "      display: none;\n",
              "      fill: #1967D2;\n",
              "      height: 32px;\n",
              "      padding: 0 0 0 0;\n",
              "      width: 32px;\n",
              "    }\n",
              "\n",
              "    .colab-df-convert:hover {\n",
              "      background-color: #E2EBFA;\n",
              "      box-shadow: 0px 1px 2px rgba(60, 64, 67, 0.3), 0px 1px 3px 1px rgba(60, 64, 67, 0.15);\n",
              "      fill: #174EA6;\n",
              "    }\n",
              "\n",
              "    [theme=dark] .colab-df-convert {\n",
              "      background-color: #3B4455;\n",
              "      fill: #D2E3FC;\n",
              "    }\n",
              "\n",
              "    [theme=dark] .colab-df-convert:hover {\n",
              "      background-color: #434B5C;\n",
              "      box-shadow: 0px 1px 3px 1px rgba(0, 0, 0, 0.15);\n",
              "      filter: drop-shadow(0px 1px 2px rgba(0, 0, 0, 0.3));\n",
              "      fill: #FFFFFF;\n",
              "    }\n",
              "  </style>\n",
              "\n",
              "      <script>\n",
              "        const buttonEl =\n",
              "          document.querySelector('#df-72aee8bf-c9a6-4803-a44a-273251218d2d button.colab-df-convert');\n",
              "        buttonEl.style.display =\n",
              "          google.colab.kernel.accessAllowed ? 'block' : 'none';\n",
              "\n",
              "        async function convertToInteractive(key) {\n",
              "          const element = document.querySelector('#df-72aee8bf-c9a6-4803-a44a-273251218d2d');\n",
              "          const dataTable =\n",
              "            await google.colab.kernel.invokeFunction('convertToInteractive',\n",
              "                                                     [key], {});\n",
              "          if (!dataTable) return;\n",
              "\n",
              "          const docLinkHtml = 'Like what you see? Visit the ' +\n",
              "            '<a target=\"_blank\" href=https://colab.research.google.com/notebooks/data_table.ipynb>data table notebook</a>'\n",
              "            + ' to learn more about interactive tables.';\n",
              "          element.innerHTML = '';\n",
              "          dataTable['output_type'] = 'display_data';\n",
              "          await google.colab.output.renderOutput(dataTable, element);\n",
              "          const docLink = document.createElement('div');\n",
              "          docLink.innerHTML = docLinkHtml;\n",
              "          element.appendChild(docLink);\n",
              "        }\n",
              "      </script>\n",
              "    </div>\n",
              "  </div>\n",
              "  "
            ]
          },
          "metadata": {},
          "execution_count": 10
        }
      ],
      "source": [
        "df = df.drop(['Currency', '24h Open (USD)',\t'24h High (USD)',\t'24h Low (USD)'], axis = 1)\n",
        "df.head()"
      ]
    },
    {
      "cell_type": "code",
      "execution_count": null,
      "metadata": {
        "colab": {
          "base_uri": "https://localhost:8080/",
          "height": 223
        },
        "id": "nRp2UJ1dUQPS",
        "outputId": "1e20eb5f-7886-407d-b27f-ba19a8d65674"
      },
      "outputs": [
        {
          "output_type": "execute_result",
          "data": {
            "text/plain": [
              "                   Close\n",
              "Date                    \n",
              "2021-05-14  49764.132082\n",
              "2021-05-15  50032.693137\n",
              "2021-05-16  47885.625255\n",
              "2021-05-17  45604.615754\n",
              "2021-05-18  43144.471291"
            ],
            "text/html": [
              "\n",
              "  <div id=\"df-c9b6224e-223e-4390-ac27-56979a1f48e7\">\n",
              "    <div class=\"colab-df-container\">\n",
              "      <div>\n",
              "<style scoped>\n",
              "    .dataframe tbody tr th:only-of-type {\n",
              "        vertical-align: middle;\n",
              "    }\n",
              "\n",
              "    .dataframe tbody tr th {\n",
              "        vertical-align: top;\n",
              "    }\n",
              "\n",
              "    .dataframe thead th {\n",
              "        text-align: right;\n",
              "    }\n",
              "</style>\n",
              "<table border=\"1\" class=\"dataframe\">\n",
              "  <thead>\n",
              "    <tr style=\"text-align: right;\">\n",
              "      <th></th>\n",
              "      <th>Close</th>\n",
              "    </tr>\n",
              "    <tr>\n",
              "      <th>Date</th>\n",
              "      <th></th>\n",
              "    </tr>\n",
              "  </thead>\n",
              "  <tbody>\n",
              "    <tr>\n",
              "      <th>2021-05-14</th>\n",
              "      <td>49764.132082</td>\n",
              "    </tr>\n",
              "    <tr>\n",
              "      <th>2021-05-15</th>\n",
              "      <td>50032.693137</td>\n",
              "    </tr>\n",
              "    <tr>\n",
              "      <th>2021-05-16</th>\n",
              "      <td>47885.625255</td>\n",
              "    </tr>\n",
              "    <tr>\n",
              "      <th>2021-05-17</th>\n",
              "      <td>45604.615754</td>\n",
              "    </tr>\n",
              "    <tr>\n",
              "      <th>2021-05-18</th>\n",
              "      <td>43144.471291</td>\n",
              "    </tr>\n",
              "  </tbody>\n",
              "</table>\n",
              "</div>\n",
              "      <button class=\"colab-df-convert\" onclick=\"convertToInteractive('df-c9b6224e-223e-4390-ac27-56979a1f48e7')\"\n",
              "              title=\"Convert this dataframe to an interactive table.\"\n",
              "              style=\"display:none;\">\n",
              "        \n",
              "  <svg xmlns=\"http://www.w3.org/2000/svg\" height=\"24px\"viewBox=\"0 0 24 24\"\n",
              "       width=\"24px\">\n",
              "    <path d=\"M0 0h24v24H0V0z\" fill=\"none\"/>\n",
              "    <path d=\"M18.56 5.44l.94 2.06.94-2.06 2.06-.94-2.06-.94-.94-2.06-.94 2.06-2.06.94zm-11 1L8.5 8.5l.94-2.06 2.06-.94-2.06-.94L8.5 2.5l-.94 2.06-2.06.94zm10 10l.94 2.06.94-2.06 2.06-.94-2.06-.94-.94-2.06-.94 2.06-2.06.94z\"/><path d=\"M17.41 7.96l-1.37-1.37c-.4-.4-.92-.59-1.43-.59-.52 0-1.04.2-1.43.59L10.3 9.45l-7.72 7.72c-.78.78-.78 2.05 0 2.83L4 21.41c.39.39.9.59 1.41.59.51 0 1.02-.2 1.41-.59l7.78-7.78 2.81-2.81c.8-.78.8-2.07 0-2.86zM5.41 20L4 18.59l7.72-7.72 1.47 1.35L5.41 20z\"/>\n",
              "  </svg>\n",
              "      </button>\n",
              "      \n",
              "  <style>\n",
              "    .colab-df-container {\n",
              "      display:flex;\n",
              "      flex-wrap:wrap;\n",
              "      gap: 12px;\n",
              "    }\n",
              "\n",
              "    .colab-df-convert {\n",
              "      background-color: #E8F0FE;\n",
              "      border: none;\n",
              "      border-radius: 50%;\n",
              "      cursor: pointer;\n",
              "      display: none;\n",
              "      fill: #1967D2;\n",
              "      height: 32px;\n",
              "      padding: 0 0 0 0;\n",
              "      width: 32px;\n",
              "    }\n",
              "\n",
              "    .colab-df-convert:hover {\n",
              "      background-color: #E2EBFA;\n",
              "      box-shadow: 0px 1px 2px rgba(60, 64, 67, 0.3), 0px 1px 3px 1px rgba(60, 64, 67, 0.15);\n",
              "      fill: #174EA6;\n",
              "    }\n",
              "\n",
              "    [theme=dark] .colab-df-convert {\n",
              "      background-color: #3B4455;\n",
              "      fill: #D2E3FC;\n",
              "    }\n",
              "\n",
              "    [theme=dark] .colab-df-convert:hover {\n",
              "      background-color: #434B5C;\n",
              "      box-shadow: 0px 1px 3px 1px rgba(0, 0, 0, 0.15);\n",
              "      filter: drop-shadow(0px 1px 2px rgba(0, 0, 0, 0.3));\n",
              "      fill: #FFFFFF;\n",
              "    }\n",
              "  </style>\n",
              "\n",
              "      <script>\n",
              "        const buttonEl =\n",
              "          document.querySelector('#df-c9b6224e-223e-4390-ac27-56979a1f48e7 button.colab-df-convert');\n",
              "        buttonEl.style.display =\n",
              "          google.colab.kernel.accessAllowed ? 'block' : 'none';\n",
              "\n",
              "        async function convertToInteractive(key) {\n",
              "          const element = document.querySelector('#df-c9b6224e-223e-4390-ac27-56979a1f48e7');\n",
              "          const dataTable =\n",
              "            await google.colab.kernel.invokeFunction('convertToInteractive',\n",
              "                                                     [key], {});\n",
              "          if (!dataTable) return;\n",
              "\n",
              "          const docLinkHtml = 'Like what you see? Visit the ' +\n",
              "            '<a target=\"_blank\" href=https://colab.research.google.com/notebooks/data_table.ipynb>data table notebook</a>'\n",
              "            + ' to learn more about interactive tables.';\n",
              "          element.innerHTML = '';\n",
              "          dataTable['output_type'] = 'display_data';\n",
              "          await google.colab.output.renderOutput(dataTable, element);\n",
              "          const docLink = document.createElement('div');\n",
              "          docLink.innerHTML = docLinkHtml;\n",
              "          element.appendChild(docLink);\n",
              "        }\n",
              "      </script>\n",
              "    </div>\n",
              "  </div>\n",
              "  "
            ]
          },
          "metadata": {},
          "execution_count": 11
        }
      ],
      "source": [
        "df.tail()"
      ]
    },
    {
      "cell_type": "code",
      "execution_count": null,
      "metadata": {
        "colab": {
          "base_uri": "https://localhost:8080/"
        },
        "id": "gwnVgkZKUQSB",
        "outputId": "18f29923-ed74-4361-852d-00a3d7d9b9d0"
      },
      "outputs": [
        {
          "output_type": "stream",
          "name": "stdout",
          "text": [
            "<class 'pandas.core.frame.DataFrame'>\n",
            "DatetimeIndex: 2787 entries, 2013-10-01 to 2021-05-18\n",
            "Data columns (total 1 columns):\n",
            " #   Column  Non-Null Count  Dtype  \n",
            "---  ------  --------------  -----  \n",
            " 0   Close   2787 non-null   float64\n",
            "dtypes: float64(1)\n",
            "memory usage: 43.5 KB\n"
          ]
        }
      ],
      "source": [
        "df.info()"
      ]
    },
    {
      "cell_type": "markdown",
      "metadata": {
        "id": "J0_AeqW2ZsLQ"
      },
      "source": [
        "\n",
        "\n",
        "We've collected the historical price of Bitcoin for the past ~8 years but there's only 2787 total samples. \n",
        "This is something you'll run into with time series data problems. Often, the number of samples isn't as large as other kinds of data.\n",
        "\n",
        "**NOTE**\n",
        "\n",
        "The frequency at which a time series value is collected is often referred to as seasonality. This is usually mesaured in number of samples per year. For example, collecting the price of Bitcoin once per day would result in a time series with a seasonality of 365.\n",
        "\n"
      ]
    },
    {
      "cell_type": "markdown",
      "metadata": {
        "id": "5j6LeInqVzEe"
      },
      "source": [
        "## Time Series Components"
      ]
    },
    {
      "cell_type": "markdown",
      "metadata": {
        "id": "-sc-e9-NWU7s"
      },
      "source": [
        "### Combining Time Series Components\n",
        "A series is thought to be an aggregate or combination of these \n",
        "four components. \n",
        "\n",
        "*   **Level**: The average value in the series.\n",
        "*   **Trend**: The increasing or decreasing value in the series.\n",
        "*   **Seasonality**: The repeating short-term cycle in the series.\n",
        "*   **Noise**: The random variation in the series.\n",
        "\n",
        "All series have a level and noise. The trend and seasonality components are optional. It is helpful to think of the components as combining either additively or multiplicatively.\n",
        "\n",
        "### Additive Model\n",
        "An additive model suggests that the components are added together as follows:\n",
        "\n",
        "**y(t) = Level + Trend + Seasonality + Noise**\n",
        "\n",
        "An additive model is linear where changes over time are consistently made by the same amount. A linear trend is a straight line. A linear seasonality has the same frequency (width of cycles) and amplitude (height of cycles).\n",
        "\n",
        "### Multiplicative Model\n",
        "A multiplicative model suggests that the components are multiplied together as follows:\n",
        "\n",
        "y(t) = Level * Trend * Seasonality * Noise **bold text**\n",
        "\n",
        "A multiplicative model is nonlinear, such as quadratic or exponential. Changes increase or decrease over time. A nonlinear trend is a curved line. A non-linear seasonality has an increasing or decreasing frequency and/or amplitude over time."
      ]
    },
    {
      "cell_type": "markdown",
      "metadata": {
        "id": "3h-7rfSIV4-6"
      },
      "source": [
        "### Plotting Closing Price of Bitcoin "
      ]
    },
    {
      "cell_type": "code",
      "execution_count": null,
      "metadata": {
        "colab": {
          "base_uri": "https://localhost:8080/",
          "height": 297
        },
        "id": "LfHTWZa2UQXG",
        "outputId": "96163a2e-8066-4c1b-82df-db569798985e"
      },
      "outputs": [
        {
          "output_type": "execute_result",
          "data": {
            "text/plain": [
              "<matplotlib.axes._subplots.AxesSubplot at 0x7fe1a28ebf10>"
            ]
          },
          "metadata": {},
          "execution_count": 13
        },
        {
          "output_type": "display_data",
          "data": {
            "text/plain": [
              "<Figure size 432x288 with 1 Axes>"
            ],
            "image/png": "[encoded data removed]"
          },
          "metadata": {
            "needs_background": "light"
          }
        }
      ],
      "source": [
        "df['Close'].plot()"
      ]
    },
    {
      "cell_type": "code",
      "execution_count": null,
      "metadata": {
        "colab": {
          "base_uri": "https://localhost:8080/",
          "height": 297
        },
        "id": "KBhCBwL3UQaE",
        "outputId": "c3b5536f-dada-4c7e-8d48-3b64d24320f5"
      },
      "outputs": [
        {
          "output_type": "execute_result",
          "data": {
            "text/plain": [
              "<matplotlib.axes._subplots.AxesSubplot at 0x7fe199298f50>"
            ]
          },
          "metadata": {},
          "execution_count": 14
        },
        {
          "output_type": "display_data",
          "data": {
            "text/plain": [
              "<Figure size 432x288 with 1 Axes>"
            ],
            "image/png": "[encoded data removed]"
          },
          "metadata": {
            "needs_background": "light"
          }
        }
      ],
      "source": [
        "# Limiting the plot to specific date range\n",
        "df['Close'].plot(xlim = ('2017-01-01', '2021-05-18'), grid = True)"
      ]
    },
    {
      "cell_type": "code",
      "execution_count": null,
      "metadata": {
        "colab": {
          "base_uri": "https://localhost:8080/"
        },
        "id": "DOLEMloed47l",
        "outputId": "37125ee7-8464-4c7d-b5a9-9e1db3e4bcc1"
      },
      "outputs": [
        {
          "output_type": "execute_result",
          "data": {
            "text/plain": [
              "DatetimeIndex(['2013-10-01', '2013-10-02', '2013-10-03', '2013-10-04',\n",
              "               '2013-10-05', '2013-10-06', '2013-10-07', '2013-10-08',\n",
              "               '2013-10-09', '2013-10-10', '2013-10-11', '2013-10-12',\n",
              "               '2013-10-13', '2013-10-14', '2013-10-15', '2013-10-16',\n",
              "               '2013-10-17', '2013-10-18', '2013-10-19', '2013-10-20',\n",
              "               '2013-10-21', '2013-10-22', '2013-10-23', '2013-10-24',\n",
              "               '2013-10-25', '2013-10-26', '2013-10-27', '2013-10-28',\n",
              "               '2013-10-29', '2013-10-30', '2013-10-31', '2013-11-01',\n",
              "               '2013-11-02', '2013-11-03', '2013-11-04'],\n",
              "              dtype='datetime64[ns]', name='Date', freq=None)"
            ]
          },
          "metadata": {},
          "execution_count": 15
        }
      ],
      "source": [
        "df.index[:35]"
      ]
    },
    {
      "cell_type": "code",
      "execution_count": null,
      "metadata": {
        "colab": {
          "base_uri": "https://localhost:8080/"
        },
        "id": "8tMP71LT2_Lp",
        "outputId": "81c5b85c-6e74-44b1-d3ad-89376073ee53"
      },
      "outputs": [
        {
          "output_type": "stream",
          "name": "stdout",
          "text": [
            "<class 'pandas.core.frame.DataFrame'>\n",
            "DatetimeIndex: 2787 entries, 2013-10-01 to 2021-05-18\n",
            "Data columns (total 1 columns):\n",
            " #   Column  Non-Null Count  Dtype  \n",
            "---  ------  --------------  -----  \n",
            " 0   Close   2787 non-null   float64\n",
            "dtypes: float64(1)\n",
            "memory usage: 43.5 KB\n"
          ]
        }
      ],
      "source": [
        "df.info()\n"
      ]
    },
    {
      "cell_type": "markdown",
      "metadata": {
        "id": "pfyvZ546bsb3"
      },
      "source": [
        "### Checking the seasonal decomposition for trend and seasonality\n",
        "\n",
        "\n"
      ]
    },
    {
      "cell_type": "markdown",
      "metadata": {
        "id": "RzTUcfPoelqe"
      },
      "source": [
        "**Note**\n",
        "\n",
        "https://machinelearningmastery.com/decompose-time-series-data-trend-seasonality/"
      ]
    },
    {
      "cell_type": "code",
      "execution_count": null,
      "metadata": {
        "colab": {
          "base_uri": "https://localhost:8080/",
          "height": 297
        },
        "id": "XH_jUnXJUQfV",
        "outputId": "cda98fac-1529-4340-a6e0-35c7d5156c30"
      },
      "outputs": [
        {
          "output_type": "display_data",
          "data": {
            "text/plain": [
              "<Figure size 432x288 with 4 Axes>"
            ],
            "image/png": "[encoded data removed]"
          },
          "metadata": {
            "needs_background": "light"
          }
        }
      ],
      "source": [
        "# import statsmodels\n",
        "# result =  statsmodels.tsa.seasonal.seasonal_decompose(df['Close'], model='additive', period = 1)\n",
        "result = seasonal_decompose(df['Close'], model='multiplicative')\n",
        "result.plot()\n",
        "plt.show()"
      ]
    },
    {
      "cell_type": "markdown",
      "metadata": {
        "id": "P98GrU5kbihq"
      },
      "source": [
        " ** Note **\n",
        "\n",
        "*   Based on the above plot we can see that there is no seasonality \n",
        "and has positive trend. \n",
        "*   The residuals are also interesting, showing periods of high variability in the series.\n",
        "\n",
        "\n",
        "\n",
        "\n"
      ]
    },
    {
      "cell_type": "markdown",
      "metadata": {
        "id": "XHQxCS88cQmt"
      },
      "source": [
        "## **White Noise**\n"
      ]
    },
    {
      "cell_type": "markdown",
      "metadata": {
        "id": "ZHkTZWt405P2"
      },
      "source": [
        "* White noise is an important concept in time series forecasting.\n",
        "\n",
        "* If a time series is white noise, it is a sequence of random numbers and cannot be predicted. If the series of forecast errors are not white noise, it suggests improvements could be made to the predictive model.\n",
        "\n",
        "  https://machinelearningmastery.com/white-noise-time-series-python/\n",
        "\n"
      ]
    },
    {
      "cell_type": "code",
      "execution_count": null,
      "metadata": {
        "id": "AltODcbO1kJL"
      },
      "outputs": [],
      "source": [
        ""
      ]
    },
    {
      "cell_type": "markdown",
      "metadata": {
        "id": "eCjzdVy41LDc"
      },
      "source": [
        "### **Check if data is white noise**\n",
        "\n",
        "Your time series is probably NOT white noise if one or more of the following conditions are true:\n",
        "\n",
        "* Is the mean/level non-zero?\n",
        "* Does the mean/level change over time?\n",
        "* Does the variance change over time?\n",
        "* Do values correlate with lag values?\n",
        "\n",
        "**Some tools that you can use to check if your time series is white noise are:**\n",
        "\n",
        "* Create a line plot. Check for gross features like a changing mean, variance, or obvious relationship between lagged variables.\n",
        "* Calculate summary statistics. Check the mean and variance of the whole series against the mean and variance of meaningful contiguous(neighbouring) blocks of values in the series (e.g. days, months, or years).\n",
        "* Create an autocorrelation plot. Check for gross correlation between lagged variables."
      ]
    },
    {
      "cell_type": "code",
      "execution_count": null,
      "metadata": {
        "colab": {
          "base_uri": "https://localhost:8080/"
        },
        "id": "TSvqqs4sz0TW",
        "outputId": "1019a184-751c-47af-b4f3-f29af5a14917"
      },
      "outputs": [
        {
          "output_type": "execute_result",
          "data": {
            "text/plain": [
              "2787"
            ]
          },
          "metadata": {},
          "execution_count": 18
        }
      ],
      "source": [
        "len(df)"
      ]
    },
    {
      "cell_type": "code",
      "execution_count": null,
      "metadata": {
        "colab": {
          "base_uri": "https://localhost:8080/",
          "height": 282
        },
        "id": "NV4yccLvziGH",
        "outputId": "1b314e5f-1aa3-4c9d-ba3a-5c68b8d2f598"
      },
      "outputs": [
        {
          "output_type": "execute_result",
          "data": {
            "text/plain": [
              "              Close\n",
              "count   2787.000000\n",
              "mean    6529.845141\n",
              "std    10887.847444\n",
              "min      108.584830\n",
              "25%      460.087500\n",
              "50%     2780.182500\n",
              "75%     8506.923720\n",
              "max    63346.789035"
            ],
            "text/html": [
              "\n",
              "  <div id=\"df-0e640fd0-2b74-4ce1-8e54-81068108a07c\">\n",
              "    <div class=\"colab-df-container\">\n",
              "      <div>\n",
              "<style scoped>\n",
              "    .dataframe tbody tr th:only-of-type {\n",
              "        vertical-align: middle;\n",
              "    }\n",
              "\n",
              "    .dataframe tbody tr th {\n",
              "        vertical-align: top;\n",
              "    }\n",
              "\n",
              "    .dataframe thead th {\n",
              "        text-align: right;\n",
              "    }\n",
              "</style>\n",
              "<table border=\"1\" class=\"dataframe\">\n",
              "  <thead>\n",
              "    <tr style=\"text-align: right;\">\n",
              "      <th></th>\n",
              "      <th>Close</th>\n",
              "    </tr>\n",
              "  </thead>\n",
              "  <tbody>\n",
              "    <tr>\n",
              "      <th>count</th>\n",
              "      <td>2787.000000</td>\n",
              "    </tr>\n",
              "    <tr>\n",
              "      <th>mean</th>\n",
              "      <td>6529.845141</td>\n",
              "    </tr>\n",
              "    <tr>\n",
              "      <th>std</th>\n",
              "      <td>10887.847444</td>\n",
              "    </tr>\n",
              "    <tr>\n",
              "      <th>min</th>\n",
              "      <td>108.584830</td>\n",
              "    </tr>\n",
              "    <tr>\n",
              "      <th>25%</th>\n",
              "      <td>460.087500</td>\n",
              "    </tr>\n",
              "    <tr>\n",
              "      <th>50%</th>\n",
              "      <td>2780.182500</td>\n",
              "    </tr>\n",
              "    <tr>\n",
              "      <th>75%</th>\n",
              "      <td>8506.923720</td>\n",
              "    </tr>\n",
              "    <tr>\n",
              "      <th>max</th>\n",
              "      <td>63346.789035</td>\n",
              "    </tr>\n",
              "  </tbody>\n",
              "</table>\n",
              "</div>\n",
              "      <button class=\"colab-df-convert\" onclick=\"convertToInteractive('df-0e640fd0-2b74-4ce1-8e54-81068108a07c')\"\n",
              "              title=\"Convert this dataframe to an interactive table.\"\n",
              "              style=\"display:none;\">\n",
              "        \n",
              "  <svg xmlns=\"http://www.w3.org/2000/svg\" height=\"24px\"viewBox=\"0 0 24 24\"\n",
              "       width=\"24px\">\n",
              "    <path d=\"M0 0h24v24H0V0z\" fill=\"none\"/>\n",
              "    <path d=\"M18.56 5.44l.94 2.06.94-2.06 2.06-.94-2.06-.94-.94-2.06-.94 2.06-2.06.94zm-11 1L8.5 8.5l.94-2.06 2.06-.94-2.06-.94L8.5 2.5l-.94 2.06-2.06.94zm10 10l.94 2.06.94-2.06 2.06-.94-2.06-.94-.94-2.06-.94 2.06-2.06.94z\"/><path d=\"M17.41 7.96l-1.37-1.37c-.4-.4-.92-.59-1.43-.59-.52 0-1.04.2-1.43.59L10.3 9.45l-7.72 7.72c-.78.78-.78 2.05 0 2.83L4 21.41c.39.39.9.59 1.41.59.51 0 1.02-.2 1.41-.59l7.78-7.78 2.81-2.81c.8-.78.8-2.07 0-2.86zM5.41 20L4 18.59l7.72-7.72 1.47 1.35L5.41 20z\"/>\n",
              "  </svg>\n",
              "      </button>\n",
              "      \n",
              "  <style>\n",
              "    .colab-df-container {\n",
              "      display:flex;\n",
              "      flex-wrap:wrap;\n",
              "      gap: 12px;\n",
              "    }\n",
              "\n",
              "    .colab-df-convert {\n",
              "      background-color: #E8F0FE;\n",
              "      border: none;\n",
              "      border-radius: 50%;\n",
              "      cursor: pointer;\n",
              "      display: none;\n",
              "      fill: #1967D2;\n",
              "      height: 32px;\n",
              "      padding: 0 0 0 0;\n",
              "      width: 32px;\n",
              "    }\n",
              "\n",
              "    .colab-df-convert:hover {\n",
              "      background-color: #E2EBFA;\n",
              "      box-shadow: 0px 1px 2px rgba(60, 64, 67, 0.3), 0px 1px 3px 1px rgba(60, 64, 67, 0.15);\n",
              "      fill: #174EA6;\n",
              "    }\n",
              "\n",
              "    [theme=dark] .colab-df-convert {\n",
              "      background-color: #3B4455;\n",
              "      fill: #D2E3FC;\n",
              "    }\n",
              "\n",
              "    [theme=dark] .colab-df-convert:hover {\n",
              "      background-color: #434B5C;\n",
              "      box-shadow: 0px 1px 3px 1px rgba(0, 0, 0, 0.15);\n",
              "      filter: drop-shadow(0px 1px 2px rgba(0, 0, 0, 0.3));\n",
              "      fill: #FFFFFF;\n",
              "    }\n",
              "  </style>\n",
              "\n",
              "      <script>\n",
              "        const buttonEl =\n",
              "          document.querySelector('#df-0e640fd0-2b74-4ce1-8e54-81068108a07c button.colab-df-convert');\n",
              "        buttonEl.style.display =\n",
              "          google.colab.kernel.accessAllowed ? 'block' : 'none';\n",
              "\n",
              "        async function convertToInteractive(key) {\n",
              "          const element = document.querySelector('#df-0e640fd0-2b74-4ce1-8e54-81068108a07c');\n",
              "          const dataTable =\n",
              "            await google.colab.kernel.invokeFunction('convertToInteractive',\n",
              "                                                     [key], {});\n",
              "          if (!dataTable) return;\n",
              "\n",
              "          const docLinkHtml = 'Like what you see? Visit the ' +\n",
              "            '<a target=\"_blank\" href=https://colab.research.google.com/notebooks/data_table.ipynb>data table notebook</a>'\n",
              "            + ' to learn more about interactive tables.';\n",
              "          element.innerHTML = '';\n",
              "          dataTable['output_type'] = 'display_data';\n",
              "          await google.colab.output.renderOutput(dataTable, element);\n",
              "          const docLink = document.createElement('div');\n",
              "          docLink.innerHTML = docLinkHtml;\n",
              "          element.appendChild(docLink);\n",
              "        }\n",
              "      </script>\n",
              "    </div>\n",
              "  </div>\n",
              "  "
            ]
          },
          "metadata": {},
          "execution_count": 19
        }
      ],
      "source": [
        "df.describe()"
      ]
    },
    {
      "cell_type": "markdown",
      "metadata": {
        "id": "c8YXWFOy1tfZ"
      },
      "source": [
        "**Note**\n",
        "\n",
        "We can see that the series does not have mean close to zero or standard deviation close to 1 which is a good sign and shows that the series does not have white noise.\n",
        "\n",
        "It might be more interesting to split the series in half and calculate and compare the summary statistics for each half. We would expect to see a 0 mean and 1 standard deviation for each sub-series if the series has white noise.\n",
        "\n",
        "Lets now split the data or take a chunks of data and check if the mean and variance if it changes over time to see if the series has white noise. "
      ]
    },
    {
      "cell_type": "code",
      "execution_count": null,
      "metadata": {
        "colab": {
          "base_uri": "https://localhost:8080/",
          "height": 304
        },
        "id": "HWRUE92n5U1i",
        "outputId": "e9fd8389-15a6-40e3-ba52-c5486a53e2e6"
      },
      "outputs": [
        {
          "output_type": "execute_result",
          "data": {
            "text/plain": [
              "<matplotlib.legend.Legend at 0x7fe1968a1350>"
            ]
          },
          "metadata": {},
          "execution_count": 20
        },
        {
          "output_type": "display_data",
          "data": {
            "text/plain": [
              "<Figure size 432x288 with 1 Axes>"
            ],
            "image/png": "[encoded data removed]"
          },
          "metadata": {
            "needs_background": "light"
          }
        }
      ],
      "source": [
        "white_noise_chunks = np.split(df[:2700], 50)\n",
        "means, stds = [], []\n",
        "\n",
        "# Get the mean and std values for every chunk\n",
        "for chunk in white_noise_chunks:\n",
        "    means.append(np.mean(chunk))\n",
        "    stds.append(np.std(chunk))\n",
        "    \n",
        "    \n",
        "# Plot\n",
        "plt.title('White Noise Mean Comparison', size=20)\n",
        "plt.plot(np.arange(len(means)), [df.mean()] * len(means), label='Global mean', lw=1.5)\n",
        "plt.scatter(x=np.arange(len(means)), y=means, label='Mean')\n",
        "plt.legend()"
      ]
    },
    {
      "cell_type": "code",
      "execution_count": null,
      "metadata": {
        "colab": {
          "base_uri": "https://localhost:8080/",
          "height": 304
        },
        "id": "fwrASgMki5PV",
        "outputId": "5a2e0963-93b1-48d0-f953-c151556caea7"
      },
      "outputs": [
        {
          "output_type": "execute_result",
          "data": {
            "text/plain": [
              "<matplotlib.legend.Legend at 0x7fe196807d90>"
            ]
          },
          "metadata": {},
          "execution_count": 21
        },
        {
          "output_type": "display_data",
          "data": {
            "text/plain": [
              "<Figure size 432x288 with 1 Axes>"
            ],
            "image/png": "[encoded data removed]"
          },
          "metadata": {
            "needs_background": "light"
          }
        }
      ],
      "source": [
        "plt.title('White Noise Standard Deviation Comparison', size=20)\n",
        "plt.plot(np.arange(len(stds)), [df.std()] * len(stds), label='Global std', lw=1.5, color='orange')\n",
        "plt.scatter(x=np.arange(len(stds)), y=stds, label='STD', color='orange')\n",
        "plt.legend()"
      ]
    },
    {
      "cell_type": "markdown",
      "metadata": {
        "id": "ybYMbqb22Xdx"
      },
      "source": [
        "**Note**\n",
        "\n",
        "Creating a plot to see if the series has regular intervals of random data.\n",
        "\n",
        "We can also create a histogram and confirm the distribution is Gaussian.Indeed, the histogram shows the tell-tale bell-curve shape. Series with white noise would show a Gaussian curve with bell shape. "
      ]
    },
    {
      "cell_type": "code",
      "execution_count": null,
      "metadata": {
        "colab": {
          "base_uri": "https://localhost:8080/",
          "height": 297
        },
        "id": "zzzG2jfq0b97",
        "outputId": "619053d5-0d47-456f-b8e7-93f481b3bb2e"
      },
      "outputs": [
        {
          "output_type": "execute_result",
          "data": {
            "text/plain": [
              "<matplotlib.axes._subplots.AxesSubplot at 0x7fe1967e2050>"
            ]
          },
          "metadata": {},
          "execution_count": 22
        },
        {
          "output_type": "display_data",
          "data": {
            "text/plain": [
              "<Figure size 432x288 with 1 Axes>"
            ],
            "image/png": "[encoded data removed]"
          },
          "metadata": {
            "needs_background": "light"
          }
        }
      ],
      "source": [
        "df.plot()"
      ]
    },
    {
      "cell_type": "code",
      "execution_count": null,
      "metadata": {
        "colab": {
          "base_uri": "https://localhost:8080/",
          "height": 316
        },
        "id": "7UYgyZFo0hB7",
        "outputId": "483922f8-f0f9-4e4b-8134-b0afb0593f84"
      },
      "outputs": [
        {
          "output_type": "execute_result",
          "data": {
            "text/plain": [
              "array([[<matplotlib.axes._subplots.AxesSubplot object at 0x7fe1966baa90>]],\n",
              "      dtype=object)"
            ]
          },
          "metadata": {},
          "execution_count": 23
        },
        {
          "output_type": "display_data",
          "data": {
            "text/plain": [
              "<Figure size 432x288 with 1 Axes>"
            ],
            "image/png": "[encoded data removed]"
          },
          "metadata": {
            "needs_background": "light"
          }
        }
      ],
      "source": [
        "df.hist()"
      ]
    },
    {
      "cell_type": "markdown",
      "metadata": {
        "id": "UU8txEW52vA-"
      },
      "source": [
        "**Note**\n",
        "\n",
        "* Finally, we can create a correlogram and check for any autocorrelation with lag variables.\n",
        "\n",
        "* \n",
        "We can also create ACF plots to check the dependecy of lags with the curent observation \n",
        "\n",
        "\n",
        "An autocorrelation plot shows the correlation between a time series with itself, lagged by a specific number of periods.\n",
        "\n",
        "Autocorrelation plots also include a shaded area that represents confidence intervals. Anything inside the shaded area means that the correlation at that point isn’t statistically significant. Autocorrelation at lag 0 will have a value of 1, since the correlation is calculated between two identical time series.\n"
      ]
    },
    {
      "cell_type": "code",
      "execution_count": null,
      "metadata": {
        "colab": {
          "base_uri": "https://localhost:8080/",
          "height": 283
        },
        "id": "0Q9zW-fdaEyT",
        "outputId": "b4b23d07-83a6-4135-836d-190ced232eda"
      },
      "outputs": [
        {
          "output_type": "display_data",
          "data": {
            "text/plain": [
              "<Figure size 432x288 with 1 Axes>"
            ],
            "image/png": "[encoded data removed]"
          },
          "metadata": {
            "needs_background": "light"
          }
        }
      ],
      "source": [
        "autocorrelation_plot(df)\n",
        "plt.show()"
      ]
    },
    {
      "cell_type": "code",
      "execution_count": null,
      "metadata": {
        "colab": {
          "base_uri": "https://localhost:8080/",
          "height": 545
        },
        "id": "o64cO5cVaFCV",
        "outputId": "c387ec28-26fd-4641-b252-db6b8886e84d"
      },
      "outputs": [
        {
          "output_type": "execute_result",
          "data": {
            "text/plain": [
              "<Figure size 432x288 with 1 Axes>"
            ],
            "image/png": "[encoded data removed]"
          },
          "metadata": {},
          "execution_count": 25
        },
        {
          "output_type": "display_data",
          "data": {
            "text/plain": [
              "<Figure size 432x288 with 1 Axes>"
            ],
            "image/png": "[encoded data removed]"
          },
          "metadata": {
            "needs_background": "light"
          }
        }
      ],
      "source": [
        "plot_acf(df)"
      ]
    },
    {
      "cell_type": "code",
      "execution_count": null,
      "metadata": {
        "id": "BXy2HWN0qBJM"
      },
      "outputs": [],
      "source": [
        "# plot_pacf(nifty_df)"
      ]
    },
    {
      "cell_type": "markdown",
      "metadata": {
        "id": "GbCDWOXH7P-N"
      },
      "source": [
        "**Note**\n",
        "\n",
        "As you can see, all lags are are outside the shaded area\n",
        "And that concludes the white noise part of the series. "
      ]
    },
    {
      "cell_type": "code",
      "execution_count": null,
      "metadata": {
        "id": "ef_1Rs91aFFM"
      },
      "outputs": [],
      "source": [
        "## ADFuller Test to determine if the series is a random walk\n",
        "## the first order diff of series if shows white noise then its randomwalk\n",
        "# https://towardsdatascience.com/how-to-detect-random-walk-and-white-noise-in-time-series-forecasting-bdb5bbd4ef81\n",
        "# https://towardsdatascience.com/time-series-from-scratch-white-noise-and-random-walk-5c96270514d3\n",
        "# https://machinelearningmastery.com/gentle-introduction-random-walk-times-series-forecasting-python/\n",
        "\n",
        "# from statsmodels.tsa.stattools import adfuller\n",
        "\n",
        "# results= adfuller(nifty_df['Close'])\n",
        "# print('ADF Statistic: %f' % results[0])\n",
        "# print('p-value: %f' % results[1])\n",
        "# print('Critical Values:')\n",
        "# for key, value in results[4].items():\n",
        "# \tprint('\\t%s: %.3f' % (key, value))"
      ]
    },
    {
      "cell_type": "code",
      "execution_count": null,
      "metadata": {
        "id": "eoNWA_TiaFIC"
      },
      "outputs": [],
      "source": [
        "# plt.plot(nifty_df.diff())"
      ]
    },
    {
      "cell_type": "code",
      "execution_count": null,
      "metadata": {
        "id": "s3CKkZwWaFMP"
      },
      "outputs": [],
      "source": [
        "# plot_acf(nifty_df.diff())"
      ]
    },
    {
      "cell_type": "code",
      "execution_count": null,
      "metadata": {
        "id": "YIZQhy7-aFQt"
      },
      "outputs": [],
      "source": [
        "# autocorrelation_plot(nifty_df.diff)\n",
        "# plt.show()"
      ]
    },
    {
      "cell_type": "code",
      "execution_count": null,
      "metadata": {
        "id": "Ibiy5YEoaFU8"
      },
      "outputs": [],
      "source": [
        "# nifty_df.diff().describe()"
      ]
    },
    {
      "cell_type": "code",
      "execution_count": null,
      "metadata": {
        "id": "Ux0SDyXmaFZK"
      },
      "outputs": [],
      "source": [
        "# white_noise_chunks = np.split(nifty_df.diff()[:8000], 100)\n",
        "# means, stds = [], []\n",
        "\n",
        "# # Get the mean and std values for every chunk\n",
        "# for chunk in white_noise_chunks:\n",
        "#     means.append(np.mean(chunk))\n",
        "#     stds.append(np.std(chunk))\n",
        "    \n",
        "    \n",
        "# # Plot\n",
        "# plt.title('White Noise Mean and Standard Deviation Comparison', size=20)\n",
        "# plt.plot(np.arange(len(means)), [nifty_df.diff().mean()] * len(means), label='Global mean', lw=1.5)\n",
        "# plt.scatter(x=np.arange(len(means)), y=means, label='Mean')\n",
        "# plt.plot(np.arange(len(stds)), [nifty_df.diff().std()] * len(stds), label='Global std', lw=1.5, color='orange')\n",
        "# plt.scatter(x=np.arange(len(stds)), y=stds, label='STD', color='orange')\n",
        "# plt.legend()"
      ]
    },
    {
      "cell_type": "markdown",
      "metadata": {
        "id": "mibcPrusuVk8"
      },
      "source": [
        "## Univariate and Multivariate\n",
        "\n",
        "* Univariate time series data deals with one variable, for example, using the price of Nifty to predict the price of Nifty.\n",
        "\n",
        "* Multivariate time series data deals with more than one variable, for example, predicting electricity demand using the day of week, time of year and number of houses in a region"
      ]
    },
    {
      "cell_type": "markdown",
      "metadata": {
        "id": "ab0LVs4crydD"
      },
      "source": [
        "## Splitting the Time Series Data (right way)"
      ]
    },
    {
      "cell_type": "code",
      "execution_count": null,
      "metadata": {
        "colab": {
          "base_uri": "https://localhost:8080/"
        },
        "id": "0CfVkvHfeAsy",
        "outputId": "18f55e40-e27f-47d1-d034-4ab389086294"
      },
      "outputs": [
        {
          "output_type": "execute_result",
          "data": {
            "text/plain": [
              "(array(['2013-10-01T00:00:00.000000000', '2013-10-02T00:00:00.000000000',\n",
              "        '2013-10-03T00:00:00.000000000', '2013-10-04T00:00:00.000000000',\n",
              "        '2013-10-05T00:00:00.000000000', '2013-10-06T00:00:00.000000000',\n",
              "        '2013-10-07T00:00:00.000000000', '2013-10-08T00:00:00.000000000',\n",
              "        '2013-10-09T00:00:00.000000000', '2013-10-10T00:00:00.000000000'],\n",
              "       dtype='datetime64[ns]'),\n",
              " array([123.65499, 125.455  , 108.58483, 118.67466, 121.33866, 120.65533,\n",
              "        121.795  , 123.033  , 124.049  , 125.96116]))"
            ]
          },
          "metadata": {},
          "execution_count": 33
        }
      ],
      "source": [
        "timesteps = df.index.to_numpy()\n",
        "prices = df[\"Close\"].to_numpy()\n",
        "\n",
        "timesteps[:10], prices[:10]"
      ]
    },
    {
      "cell_type": "code",
      "execution_count": null,
      "metadata": {
        "id": "J9m8ywKow3Qq"
      },
      "outputs": [],
      "source": [
        "# timesteps = nifty_df.index.to_numpy()\n",
        "# prices = nifty_df[\"Close\"].to_numpy()\n",
        "\n",
        "# timesteps[:10], prices[:10]"
      ]
    },
    {
      "cell_type": "code",
      "execution_count": null,
      "metadata": {
        "colab": {
          "base_uri": "https://localhost:8080/"
        },
        "id": "tWu423Ft3c-h",
        "outputId": "d5ec668a-3fb1-4f99-ced3-b525517b629a"
      },
      "outputs": [
        {
          "output_type": "execute_result",
          "data": {
            "text/plain": [
              "(2787, 2787)"
            ]
          },
          "metadata": {},
          "execution_count": 35
        }
      ],
      "source": [
        "len(prices), len(timesteps)"
      ]
    },
    {
      "cell_type": "code",
      "execution_count": null,
      "metadata": {
        "colab": {
          "base_uri": "https://localhost:8080/"
        },
        "id": "zRaqRvVgeAxz",
        "outputId": "6d8c8be4-b4f2-4899-c225-8532119083aa"
      },
      "outputs": [
        {
          "output_type": "execute_result",
          "data": {
            "text/plain": [
              "(2229, 558, 2229, 558)"
            ]
          },
          "metadata": {},
          "execution_count": 36
        }
      ],
      "source": [
        "\n",
        "# Create train and test splits the right way for time series data\n",
        "split_size = int(0.8 * len(prices)) # 80% train, 20% test\n",
        "\n",
        "# Create train data splits (everything before the split)\n",
        "X_train, y_train = timesteps[:split_size], prices[:split_size]\n",
        "\n",
        "# Create test data splits (everything after the split)\n",
        "X_test, y_test = timesteps[split_size:], prices[split_size:]\n",
        "\n",
        "len(X_train), len(X_test), len(y_train), len(y_test)"
      ]
    },
    {
      "cell_type": "code",
      "execution_count": null,
      "metadata": {
        "colab": {
          "base_uri": "https://localhost:8080/",
          "height": 279
        },
        "id": "loUy0mEreA4a",
        "outputId": "0bf3a514-83af-4b1b-f4f8-073a861d2e28"
      },
      "outputs": [
        {
          "output_type": "display_data",
          "data": {
            "text/plain": [
              "<Figure size 432x288 with 1 Axes>"
            ],
            "image/png": "[encoded data removed]"
          },
          "metadata": {
            "needs_background": "light"
          }
        }
      ],
      "source": [
        "# Plot correctly made splits\n",
        "# plt.figure(figsize=(10, 7))\n",
        "plt.scatter(X_train, y_train, s=5, label=\"Train data\")\n",
        "plt.scatter(X_test, y_test, s=5, label=\"Test data\")\n",
        "plt.xlabel(\"Date\")\n",
        "plt.ylabel(\"BTC Price\")\n",
        "plt.legend(fontsize=14)\n",
        "plt.show();"
      ]
    },
    {
      "cell_type": "markdown",
      "metadata": {
        "id": "D6i7mh6oiX6Z"
      },
      "source": [
        "## Plot Function"
      ]
    },
    {
      "cell_type": "code",
      "execution_count": null,
      "metadata": {
        "id": "eQtB1g6NeA8I"
      },
      "outputs": [],
      "source": [
        "# Create a function to plot time series data\n",
        "def plot_time_series(timesteps, values, format='.', start=0, end=None, label=None):\n",
        "  \"\"\"\n",
        "  Plots a timesteps (a series of points in time) against values (a series of values across timesteps).\n",
        "  \n",
        "  Parameters\n",
        "  ---------\n",
        "  timesteps : array of timesteps\n",
        "  values : array of values across time\n",
        "  format : style of plot, default \".\"\n",
        "  start : where to start the plot (setting a value will index from start of timesteps & values)\n",
        "  end : where to end the plot (setting a value will index from end of timesteps & values)\n",
        "  label : label to show on plot of values\n",
        "  \"\"\"\n",
        "  # Plot the series\n",
        "  plt.plot(timesteps[start:end], values[start:end], format, label=label)\n",
        "  plt.xlabel(\"Time\")\n",
        "  plt.ylabel(\"Price\")\n",
        "  if label:\n",
        "    plt.legend(fontsize=14) # make label bigger\n",
        "  plt.grid(True)"
      ]
    },
    {
      "cell_type": "code",
      "execution_count": null,
      "metadata": {
        "colab": {
          "base_uri": "https://localhost:8080/",
          "height": 279
        },
        "id": "2nxN469BeA_9",
        "outputId": "d97b271b-011e-4846-b26f-285b2ccbbe5c"
      },
      "outputs": [
        {
          "output_type": "display_data",
          "data": {
            "text/plain": [
              "<Figure size 432x288 with 1 Axes>"
            ],
            "image/png": "[encoded data removed]"
          },
          "metadata": {
            "needs_background": "light"
          }
        }
      ],
      "source": [
        "plot_time_series(timesteps=X_train, values=y_train, label=\"Train data\")\n",
        "plot_time_series(timesteps=X_test, values=y_test, label=\"Test data\")"
      ]
    },
    {
      "cell_type": "markdown",
      "metadata": {
        "id": "TtMzDmJA0Dab"
      },
      "source": [
        "## Metrics and Evaluations Function"
      ]
    },
    {
      "cell_type": "markdown",
      "metadata": {
        "id": "1o7CeqKp1D80"
      },
      "source": [
        "Some of the common metrics for a time series forecast are given below. y\n",
        "\n",
        "* R-Squared\n",
        "* Mean Absolute Error\n",
        "* Mean Absolute Percentage Error\n",
        "* Mean Squared Error\n",
        "* Root Mean Squared Error\n",
        "* Normalized Root Mean Squared Error\n",
        "* Weighted Absolute Percentage Error\n",
        "* Weighted Mean Absolute Percentage Error\n",
        "\n",
        "\n",
        "you can read them in details in link below.\n",
        "\n",
        "https://analyticsindiamag.com/a-guide-to-different-evaluation-metrics-for-time-series-forecasting-models/\n"
      ]
    },
    {
      "cell_type": "code",
      "execution_count": null,
      "metadata": {
        "id": "HAdmRdlKeBH-"
      },
      "outputs": [],
      "source": [
        "# MASE implemented courtesy of sktime - https://github.com/alan-turing-institute/sktime/blob/ee7a06843a44f4aaec7582d847e36073a9ab0566/sktime/performance_metrics/forecasting/_functions.py#L16\n",
        "def mean_absolute_scaled_error(y_true, y_pred):\n",
        "  \"\"\"\n",
        "  Implement MASE (assuming no seasonality of data).\n",
        "  \"\"\"\n",
        "  mae = tf.reduce_mean(tf.abs(y_true - y_pred))\n",
        "\n",
        "  # Find MAE of naive forecast (no seasonality)\n",
        "  mae_naive_no_season = tf.reduce_mean(tf.abs(y_true[1:] - y_true[:-1])) # our seasonality is 1 day (hence the shifting of 1 day)\n",
        "\n",
        "  return mae / mae_naive_no_season\n",
        "\n",
        "\n",
        "def evaluate_preds(y_true, y_pred):\n",
        "  # Make sure float32 (for metric calculations)\n",
        "  y_true = tf.cast(y_true, dtype=tf.float32)\n",
        "  y_pred = tf.cast(y_pred, dtype=tf.float32)\n",
        "\n",
        "  # Calculate various metrics\n",
        "  mae = tf.keras.metrics.mean_absolute_error(y_true, y_pred)\n",
        "  mse = tf.keras.metrics.mean_squared_error(y_true, y_pred)\n",
        "  rmse = tf.sqrt(mse)\n",
        "  mape = tf.keras.metrics.mean_absolute_percentage_error(y_true, y_pred)\n",
        "  mase = mean_absolute_scaled_error(y_true, y_pred)\n",
        "\n",
        "  # Account for different sized metrics (for longer horizons, reduce to single number)\n",
        "  if mae.ndim > 0: # if mae isn't already a scalar, reduce it to one by aggregating tensors to mean\n",
        "    mae = tf.reduce_mean(mae)\n",
        "    mse = tf.reduce_mean(mse)\n",
        "    rmse = tf.reduce_mean(rmse)\n",
        "    mape = tf.reduce_mean(mape)\n",
        "    mase = tf.reduce_mean(mase)\n",
        "\n",
        "  return {\"mae\": mae.numpy(),\n",
        "          \"mse\": mse.numpy(),\n",
        "          \"rmse\": rmse.numpy(),\n",
        "          \"mape\": mape.numpy(),\n",
        "          \"mase\": mase.numpy()}"
      ]
    },
    {
      "cell_type": "markdown",
      "metadata": {
        "id": "NRgYXxA40G8N"
      },
      "source": [
        "## Structuring and Formatting Data (Part 2)\n"
      ]
    },
    {
      "cell_type": "markdown",
      "metadata": {
        "id": "ccvDC7-U0Xcu"
      },
      "source": [
        "Windowing is a method to turn a time series dataset into supervised learning problem.\n",
        "\n",
        "In other words, we want to use windows of the past to predict the future.\n",
        "\n",
        "For example for a univariate time series, windowing for one week (window=7) to predict the next single value (horizon=1) might look like:\n",
        "\n",
        "Window for one week (univariate time series)\n",
        "\n",
        "    [0, 1, 2, 3, 4, 5, 6] -> [7]\n",
        "\n",
        "    [1, 2, 3, 4, 5, 6, 7] -> [8]\n",
        "\n",
        "    [2, 3, 4, 5, 6, 7, 8] -> [9]"
      ]
    },
    {
      "cell_type": "code",
      "execution_count": null,
      "metadata": {
        "id": "W-HFxqoEeBLr"
      },
      "outputs": [],
      "source": [
        "HORIZON = 1 # predict 1 step at a time\n",
        "WINDOW_SIZE = 7 # use a week worth of timesteps to predict the horizon"
      ]
    },
    {
      "cell_type": "code",
      "execution_count": null,
      "metadata": {
        "id": "WevmQ_ubeBPa"
      },
      "outputs": [],
      "source": [
        "# Create function to label windowed data\n",
        "def get_labelled_windows(x, horizon=1):\n",
        "  \"\"\"\n",
        "  Creates labels for windowed dataset.\n",
        "\n",
        "  E.g. if horizon=1 (default)\n",
        "  Input: [1, 2, 3, 4, 5, 6] -> Output: ([1, 2, 3, 4, 5], [6])\n",
        "  \"\"\"\n",
        "  return x[:, :-horizon], x[:, -horizon:]"
      ]
    },
    {
      "cell_type": "code",
      "execution_count": null,
      "metadata": {
        "colab": {
          "base_uri": "https://localhost:8080/"
        },
        "id": "kBjmqu8WeBS0",
        "outputId": "00a77605-bc1d-4a1a-b9ec-7293fb0b09d2"
      },
      "outputs": [
        {
          "output_type": "stream",
          "name": "stdout",
          "text": [
            "Window: [1 2 3 4 5 6 7] -> Label: 8\n"
          ]
        }
      ],
      "source": [
        "# Test out the window labelling function\n",
        "test_window, test_label = get_labelled_windows(tf.expand_dims(tf.range(8)+1, axis=0), horizon=HORIZON)\n",
        "print(f\"Window: {tf.squeeze(test_window).numpy()} -> Label: {tf.squeeze(test_label).numpy()}\")"
      ]
    },
    {
      "cell_type": "code",
      "execution_count": null,
      "metadata": {
        "id": "sWV4xixJ1q7u"
      },
      "outputs": [],
      "source": [
        "# Create function to view NumPy arrays as windows \n",
        "def make_windows(x, window_size=7, horizon=1):\n",
        "  \"\"\"\n",
        "  Turns a 1D array into a 2D array of sequential windows of window_size.\n",
        "  \"\"\"\n",
        "  # 1. Create a window of specific window_size (add the horizon on the end for later labelling)\n",
        "  window_step = np.expand_dims(np.arange(window_size+horizon), axis=0)\n",
        "  # print(f\"Window step:\\n {window_step}\")\n",
        "\n",
        "  # 2. Create a 2D array of multiple window steps (minus 1 to account for 0 indexing)\n",
        "  window_indexes = window_step + np.expand_dims(np.arange(len(x)-(window_size+horizon-1)), axis=0).T # create 2D array of windows of size window_size\n",
        "  # print(f\"Window indexes:\\n {window_indexes[:3], window_indexes[-3:], window_indexes.shape}\")\n",
        "\n",
        "  # 3. Index on the target array (time series) with 2D array of multiple window steps\n",
        "  windowed_array = x[window_indexes]\n",
        "\n",
        "  # 4. Get the labelled windows\n",
        "  windows, labels = get_labelled_windows(windowed_array, horizon=horizon)\n",
        "\n",
        "  return windows, labels"
      ]
    },
    {
      "cell_type": "code",
      "execution_count": null,
      "metadata": {
        "colab": {
          "base_uri": "https://localhost:8080/"
        },
        "id": "XsOkQWFO1rdA",
        "outputId": "35b76666-cc92-49bb-e1e3-a58ff495b8a3"
      },
      "outputs": [
        {
          "output_type": "execute_result",
          "data": {
            "text/plain": [
              "(2780, 2780)"
            ]
          },
          "metadata": {},
          "execution_count": 45
        }
      ],
      "source": [
        "full_windows, full_labels = make_windows(prices, window_size=WINDOW_SIZE, horizon=HORIZON)\n",
        "len(full_windows), len(full_labels)"
      ]
    },
    {
      "cell_type": "code",
      "execution_count": null,
      "metadata": {
        "colab": {
          "base_uri": "https://localhost:8080/"
        },
        "id": "sC1217y01r55",
        "outputId": "3cbbac85-d419-47ee-bbee-0e8d0cca7c22"
      },
      "outputs": [
        {
          "output_type": "stream",
          "name": "stdout",
          "text": [
            "Window: [123.65499 125.455   108.58483 118.67466 121.33866 120.65533 121.795  ] -> Label: [123.033]\n",
            "Window: [125.455   108.58483 118.67466 121.33866 120.65533 121.795   123.033  ] -> Label: [124.049]\n",
            "Window: [108.58483 118.67466 121.33866 120.65533 121.795   123.033   124.049  ] -> Label: [125.96116]\n"
          ]
        }
      ],
      "source": [
        "# View the first 3 windows/labels\n",
        "for i in range(3):\n",
        "  print(f\"Window: {full_windows[i]} -> Label: {full_labels[i]}\")"
      ]
    },
    {
      "cell_type": "code",
      "execution_count": null,
      "metadata": {
        "colab": {
          "base_uri": "https://localhost:8080/"
        },
        "id": "VvdZxpMa1sXz",
        "outputId": "715429a7-3e78-4365-940b-aacfa2c2ba7c"
      },
      "outputs": [
        {
          "output_type": "stream",
          "name": "stdout",
          "text": [
            "Window: [58788.20967893 58102.19142623 55715.54665129 56573.5554719\n",
            " 52147.82118698 49764.1320816  50032.69313676] -> Label: [47885.62525472]\n",
            "Window: [58102.19142623 55715.54665129 56573.5554719  52147.82118698\n",
            " 49764.1320816  50032.69313676 47885.62525472] -> Label: [45604.61575361]\n",
            "Window: [55715.54665129 56573.5554719  52147.82118698 49764.1320816\n",
            " 50032.69313676 47885.62525472 45604.61575361] -> Label: [43144.47129086]\n"
          ]
        }
      ],
      "source": [
        "# View the last 3 windows/labels\n",
        "for i in range(3):\n",
        "  print(f\"Window: {full_windows[i-3]} -> Label: {full_labels[i-3]}\")"
      ]
    },
    {
      "cell_type": "code",
      "execution_count": null,
      "metadata": {
        "id": "ODVyQLo01s1c"
      },
      "outputs": [],
      "source": [
        ""
      ]
    },
    {
      "cell_type": "markdown",
      "metadata": {
        "id": "X3NxR85s2p3P"
      },
      "source": [
        "## Making Train Test Split on Windows and Labels Function\n"
      ]
    },
    {
      "cell_type": "code",
      "execution_count": null,
      "metadata": {
        "id": "bflNYKbF1tSH"
      },
      "outputs": [],
      "source": [
        "# Make the train/test splits\n",
        "def make_train_test_splits(windows, labels, test_split=0.2):\n",
        "  \"\"\"\n",
        "  Splits matching pairs of windows and labels into train and test splits.\n",
        "  \"\"\"\n",
        "  split_size = int(len(windows) * (1-test_split)) # this will default to 80% train/20% test\n",
        "  train_windows = windows[:split_size]\n",
        "  train_labels = labels[:split_size]\n",
        "  test_windows = windows[split_size:]\n",
        "  test_labels = labels[split_size:]\n",
        "  return train_windows, test_windows, train_labels, test_labels"
      ]
    },
    {
      "cell_type": "code",
      "execution_count": null,
      "metadata": {
        "colab": {
          "base_uri": "https://localhost:8080/"
        },
        "id": "R30wUHoT1ttp",
        "outputId": "33166bfd-8c06-4764-c395-9863454af560"
      },
      "outputs": [
        {
          "output_type": "execute_result",
          "data": {
            "text/plain": [
              "(2224, 556, 2224, 556)"
            ]
          },
          "metadata": {},
          "execution_count": 49
        }
      ],
      "source": [
        "train_windows, test_windows, train_labels, test_labels = make_train_test_splits(full_windows, full_labels)\n",
        "len(train_windows), len(test_windows), len(train_labels), len(test_labels)"
      ]
    },
    {
      "cell_type": "code",
      "execution_count": null,
      "metadata": {
        "colab": {
          "base_uri": "https://localhost:8080/"
        },
        "id": "DU--alWx1uMZ",
        "outputId": "5f1291bb-1c4e-49bd-8631-96194182b30b"
      },
      "outputs": [
        {
          "output_type": "execute_result",
          "data": {
            "text/plain": [
              "(array([[123.65499, 125.455  , 108.58483, 118.67466, 121.33866, 120.65533,\n",
              "         121.795  ],\n",
              "        [125.455  , 108.58483, 118.67466, 121.33866, 120.65533, 121.795  ,\n",
              "         123.033  ],\n",
              "        [108.58483, 118.67466, 121.33866, 120.65533, 121.795  , 123.033  ,\n",
              "         124.049  ],\n",
              "        [118.67466, 121.33866, 120.65533, 121.795  , 123.033  , 124.049  ,\n",
              "         125.96116],\n",
              "        [121.33866, 120.65533, 121.795  , 123.033  , 124.049  , 125.96116,\n",
              "         125.27966]]), array([[123.033  ],\n",
              "        [124.049  ],\n",
              "        [125.96116],\n",
              "        [125.27966],\n",
              "        [125.9275 ]]))"
            ]
          },
          "metadata": {},
          "execution_count": 50
        }
      ],
      "source": [
        "train_windows[:5], train_labels[:5]"
      ]
    },
    {
      "cell_type": "code",
      "execution_count": null,
      "metadata": {
        "colab": {
          "base_uri": "https://localhost:8080/"
        },
        "id": "iChvZcPt1uqR",
        "outputId": "5cf77f1e-cdac-46d2-d02d-3ac55a9988f1"
      },
      "outputs": [
        {
          "output_type": "execute_result",
          "data": {
            "text/plain": [
              "True"
            ]
          },
          "metadata": {},
          "execution_count": 51
        }
      ],
      "source": [
        "np.array_equal(np.squeeze(train_labels[:-HORIZON-1]), y_train[WINDOW_SIZE:])"
      ]
    },
    {
      "cell_type": "code",
      "execution_count": null,
      "metadata": {
        "colab": {
          "base_uri": "https://localhost:8080/"
        },
        "id": "fMAa0FOO1vJO",
        "outputId": "87e6f187-206b-4e03-daa7-86cf185ce5ad"
      },
      "outputs": [
        {
          "output_type": "execute_result",
          "data": {
            "text/plain": [
              "(2222, 2222)"
            ]
          },
          "metadata": {},
          "execution_count": 52
        }
      ],
      "source": [
        "len(train_labels[:-HORIZON-1]), len(y_train[WINDOW_SIZE:])"
      ]
    },
    {
      "cell_type": "code",
      "execution_count": null,
      "metadata": {
        "id": "NSajlrWZ1vnH"
      },
      "outputs": [],
      "source": [
        ""
      ]
    },
    {
      "cell_type": "markdown",
      "metadata": {
        "id": "Ny-e-bSXiSQv"
      },
      "source": [
        "## Modelling Chekpoint Function"
      ]
    },
    {
      "cell_type": "code",
      "execution_count": null,
      "metadata": {
        "id": "2JyjcnAy1wHQ"
      },
      "outputs": [],
      "source": [
        "import os\n",
        "\n",
        "# Create a function to implement a ModelCheckpoint callback with a specific filename \n",
        "def create_model_checkpoint(model_name, save_path=\"model_experiments\"):\n",
        "  return tf.keras.callbacks.ModelCheckpoint(filepath=os.path.join(save_path, model_name), # create filepath to save model\n",
        "                                            verbose=0, # only output a limited amount of text\n",
        "                                            save_best_only=True) # save only the best model to file"
      ]
    },
    {
      "cell_type": "code",
      "execution_count": null,
      "metadata": {
        "id": "1ybO9j1dhAGX"
      },
      "outputs": [],
      "source": [
        ""
      ]
    },
    {
      "cell_type": "markdown",
      "metadata": {
        "id": "qKmPMUNFokyM"
      },
      "source": [
        "## Model 1 : Base Model Dense\n"
      ]
    },
    {
      "cell_type": "code",
      "execution_count": null,
      "metadata": {
        "id": "GGtBA8xwhAmw"
      },
      "outputs": [],
      "source": [
        "## Base Model Dense\n",
        "\n",
        "tf.random.set_seed(42)\n",
        "\n",
        "model_1 = tf.keras.Sequential([\n",
        "    layers.Dense(128,activation = 'relu'),\n",
        "    layers.Dense(128,activation = 'relu'),\n",
        "    layers.Dense(128,activation = 'relu'),\n",
        "    layers.Dense(1, activation ='linear')\n",
        "], name = 'model_1_dense')\n",
        "\n",
        "model_1.compile(loss = 'mae', \n",
        "                optimizer = 'adam', \n",
        "                metrics = ['mae'])\n",
        "\n",
        "history_1 = model_1.fit(x = train_windows,\n",
        "            y = train_labels,\n",
        "            epochs = 100,\n",
        "            verbose = 0,\n",
        "            batch_size = 128,\n",
        "            validation_data = (test_windows, test_labels),\n",
        "            callbacks = [create_model_checkpoint(model_name = model_1.name)])"
      ]
    },
    {
      "cell_type": "code",
      "execution_count": null,
      "metadata": {
        "colab": {
          "base_uri": "https://localhost:8080/"
        },
        "id": "gQTMaxQBhBBI",
        "outputId": "0187c291-3e0e-4ec1-cd47-0840f937fa32"
      },
      "outputs": [
        {
          "output_type": "stream",
          "name": "stdout",
          "text": [
            "18/18 [==============================] - 0s 2ms/step - loss: 619.9005 - mae: 619.9005\n"
          ]
        },
        {
          "output_type": "execute_result",
          "data": {
            "text/plain": [
              "[619.9004516601562, 619.9004516601562]"
            ]
          },
          "metadata": {},
          "execution_count": 55
        }
      ],
      "source": [
        "model_1.evaluate(test_windows, test_labels)"
      ]
    },
    {
      "cell_type": "code",
      "execution_count": null,
      "metadata": {
        "colab": {
          "base_uri": "https://localhost:8080/"
        },
        "id": "SuIG-UFBhBbT",
        "outputId": "d3eaf4ac-2757-42dd-e760-269e6f829230"
      },
      "outputs": [
        {
          "output_type": "stream",
          "name": "stdout",
          "text": [
            "18/18 [==============================] - 0s 2ms/step - loss: 566.8790 - mae: 566.8790\n"
          ]
        },
        {
          "output_type": "execute_result",
          "data": {
            "text/plain": [
              "[566.8790283203125, 566.8790283203125]"
            ]
          },
          "metadata": {},
          "execution_count": 56
        }
      ],
      "source": [
        "# Load in the best performing model\n",
        "model_1 = tf.keras.models.load_model(\"model_experiments/model_1_dense\")\n",
        "model_1.evaluate(test_windows, test_labels)"
      ]
    },
    {
      "cell_type": "markdown",
      "metadata": {
        "id": "jiCKyBwwpfdM"
      },
      "source": [
        "## Forecast Function"
      ]
    },
    {
      "cell_type": "code",
      "execution_count": null,
      "metadata": {
        "id": "ERbTw2Q-hB43"
      },
      "outputs": [],
      "source": [
        "def make_preds(model, input_data):\n",
        "  \"\"\"\n",
        "  Uses model to make predictions on input_data.\n",
        "\n",
        "  Parameters\n",
        "  ----------\n",
        "  model: trained model \n",
        "  input_data: windowed input data (same kind of data model was trained on)\n",
        "\n",
        "  Returns model predictions on input_data.\n",
        "  \"\"\"\n",
        "  forecast = model.predict(input_data)\n",
        "  return tf.squeeze(forecast)"
      ]
    },
    {
      "cell_type": "code",
      "execution_count": null,
      "metadata": {
        "colab": {
          "base_uri": "https://localhost:8080/"
        },
        "id": "0vK7AycOhCWu",
        "outputId": "a90b40a3-c5ab-4c27-8b2f-c4ca9de3e871"
      },
      "outputs": [
        {
          "output_type": "execute_result",
          "data": {
            "text/plain": [
              "(556, <tf.Tensor: shape=(10,), dtype=float32, numpy=\n",
              " array([8827.106, 8769.943, 9039.042, 8770.901, 8715.464, 8732.526,\n",
              "        8659.861, 8505.373, 8442.771, 8517.143], dtype=float32)>)"
            ]
          },
          "metadata": {},
          "execution_count": 58
        }
      ],
      "source": [
        "model_1_preds = make_preds(model_1, test_windows)\n",
        "len(model_1_preds), model_1_preds[:10]"
      ]
    },
    {
      "cell_type": "code",
      "execution_count": null,
      "metadata": {
        "colab": {
          "base_uri": "https://localhost:8080/"
        },
        "id": "pcghMAW5hCyM",
        "outputId": "e51e674f-9102-4152-ea59-7058922c994a"
      },
      "outputs": [
        {
          "output_type": "execute_result",
          "data": {
            "text/plain": [
              "{'mae': 566.879,\n",
              " 'mape': 2.5480661,\n",
              " 'mase': 0.99584943,\n",
              " 'mse': 1155784.9,\n",
              " 'rmse': 1075.0743}"
            ]
          },
          "metadata": {},
          "execution_count": 59
        }
      ],
      "source": [
        "model_1_results = evaluate_preds(y_true=tf.squeeze(test_labels), # reduce to right shape\n",
        "                                 y_pred=model_1_preds)\n",
        "model_1_results"
      ]
    },
    {
      "cell_type": "code",
      "execution_count": null,
      "metadata": {
        "colab": {
          "base_uri": "https://localhost:8080/",
          "height": 279
        },
        "id": "UvZIECWuhDNa",
        "outputId": "60ae1d0b-6055-48ed-9959-2fb709518032"
      },
      "outputs": [
        {
          "output_type": "display_data",
          "data": {
            "text/plain": [
              "<Figure size 432x288 with 1 Axes>"
            ],
            "image/png": "[encoded data removed]"
          },
          "metadata": {
            "needs_background": "light"
          }
        }
      ],
      "source": [
        "offset = 0\n",
        "# plt.figure(figsize=(10, 7))\n",
        "# Account for the test_window offset and index into test_labels to ensure correct plotting\n",
        "# plot_time_series(timesteps=X_test[-len(test_windows):], values=test_labels[:, 0], start=offset, label=\"Test_data\")\n",
        "plot_time_series(timesteps, prices, start = offset, label = \"Original Data\")\n",
        "plot_time_series(timesteps=X_test[-len(test_windows):], values=model_1_preds, start=offset, format=\"-\", label=\"model_1_preds\")"
      ]
    },
    {
      "cell_type": "code",
      "execution_count": null,
      "metadata": {
        "colab": {
          "base_uri": "https://localhost:8080/",
          "height": 54
        },
        "id": "eCshhwzcshMM",
        "outputId": "641f21d3-8c82-4a26-d5a8-2138883b6e24"
      },
      "outputs": [
        {
          "output_type": "display_data",
          "data": {
            "text/plain": [
              "<Figure size 432x288 with 1 Axes>"
            ],
            "image/png": "[encoded data removed]"
          },
          "metadata": {
            "needs_background": "light"
          }
        }
      ],
      "source": [
        "offset = 300\n",
        "plot_time_series(timesteps=X_test[-len(test_windows):], values=test_labels[:, 0], start=offset, label=\"Test_data\")\n",
        "plot_time_series(timesteps=X_test[-len(test_windows):], values=model_1_preds, start=offset, format=\"-\", label=\"model_1_preds\")"
      ]
    },
    {
      "cell_type": "markdown",
      "metadata": {
        "id": "IC2SqrI2qZMz"
      },
      "source": [
        "## Loss Curves Function\n"
      ]
    },
    {
      "cell_type": "code",
      "execution_count": null,
      "metadata": {
        "id": "tfL83ysIhDp6"
      },
      "outputs": [],
      "source": [
        "def loss_curves(history):\n",
        "  # summarize history for loss\n",
        "  plt.plot(history.history['loss'])\n",
        "  plt.plot(history.history['val_loss'])\n",
        "  plt.title('model loss')\n",
        "  plt.ylabel('loss')\n",
        "  plt.xlabel('epoch')\n",
        "  plt.legend(['train', 'test'], loc='upper left')\n",
        "  plt.show()"
      ]
    },
    {
      "cell_type": "code",
      "execution_count": null,
      "metadata": {
        "colab": {
          "base_uri": "https://localhost:8080/",
          "height": 54
        },
        "id": "k_WxijvZhEF-",
        "outputId": "f3b543ba-2b71-4c46-ecd5-075a0cb1fcf6"
      },
      "outputs": [
        {
          "output_type": "display_data",
          "data": {
            "text/plain": [
              "<Figure size 432x288 with 1 Axes>"
            ],
            "image/png": "[encoded data removed]"
          },
          "metadata": {
            "needs_background": "light"
          }
        }
      ],
      "source": [
        "loss_curves(history_1)"
      ]
    },
    {
      "cell_type": "code",
      "execution_count": null,
      "metadata": {
        "id": "y8w6psW2hFcf"
      },
      "outputs": [],
      "source": [
        ""
      ]
    },
    {
      "cell_type": "markdown",
      "metadata": {
        "id": "2qg8N-lwEpw3"
      },
      "source": [
        "## Model 2: LSTM "
      ]
    },
    {
      "cell_type": "code",
      "execution_count": null,
      "metadata": {
        "id": "nAPmbFsthGzB"
      },
      "outputs": [],
      "source": [
        "tf.random.set_seed(42)\n",
        "\n",
        "# Let's build an LSTM model with the Functional API\n",
        "inputs = layers.Input(shape=(WINDOW_SIZE))\n",
        "x = layers.Lambda(lambda x: tf.expand_dims(x, axis=1))(inputs) # expand input dimension to be compatible with LSTM\n",
        "# print(x.shape)\n",
        "# x = layers.LSTM(128, activation=\"relu\", return_sequences=True)(x) # this layer will error if the inputs are not the right shape\n",
        "x = layers.LSTM(128, activation=\"relu\", return_sequences = True)(x)\n",
        "x = layers.LSTM(128, activation=\"relu\", return_sequences = True)(x)\n",
        "x = layers.LSTM(128, activation=\"relu\")(x) # using the tanh loss function results in a massive error\n",
        "# print(x.shape)\n",
        "# Add another optional dense layer (you could add more of these to see if they improve model performance)\n",
        "# x = layers.Dense(32, activation=\"relu\")(x)\n",
        "output = layers.Dense(HORIZON)(x)\n",
        "model_5 = tf.keras.Model(inputs=inputs, outputs=output, name=\"model_5_lstm\")\n",
        "\n",
        "# Compile model\n",
        "model_5.compile(loss=\"mae\",\n",
        "                optimizer=tf.keras.optimizers.Adam())\n",
        "\n",
        "# Seems when saving the model several warnings are appearing: https://github.com/tensorflow/tensorflow/issues/47554 \n",
        "history_5 = model_5.fit(train_windows,\n",
        "            train_labels,\n",
        "            epochs=100,\n",
        "            verbose=0,\n",
        "            batch_size=128,\n",
        "            validation_data=(test_windows, test_labels),\n",
        "            callbacks=[create_model_checkpoint(model_name=model_5.name)])"
      ]
    },
    {
      "cell_type": "code",
      "execution_count": null,
      "metadata": {
        "colab": {
          "base_uri": "https://localhost:8080/"
        },
        "id": "6W0UK4hDhHQV",
        "outputId": "8f3d2ed7-06bc-4f81-9c13-d497c0d2d4a5"
      },
      "outputs": [
        {
          "output_type": "stream",
          "name": "stdout",
          "text": [
            "18/18 [==============================] - 0s 3ms/step - loss: 580.6100\n"
          ]
        },
        {
          "output_type": "execute_result",
          "data": {
            "text/plain": [
              "580.6099853515625"
            ]
          },
          "metadata": {},
          "execution_count": 65
        }
      ],
      "source": [
        "model_5 = tf.keras.models.load_model(\"model_experiments/model_5_lstm/\")\n",
        "model_5.evaluate(test_windows, test_labels)"
      ]
    },
    {
      "cell_type": "code",
      "execution_count": null,
      "metadata": {
        "colab": {
          "base_uri": "https://localhost:8080/"
        },
        "id": "S34xVnaK-ZLr",
        "outputId": "d02afdb3-a963-4794-b8f5-6276d8f187d3"
      },
      "outputs": [
        {
          "output_type": "execute_result",
          "data": {
            "text/plain": [
              "<tf.Tensor: shape=(10,), dtype=float32, numpy=\n",
              "array([8902.902 , 8769.48  , 8957.952 , 8827.71  , 8772.3955, 8712.019 ,\n",
              "       8682.526 , 8543.914 , 8461.051 , 8498.697 ], dtype=float32)>"
            ]
          },
          "metadata": {},
          "execution_count": 66
        }
      ],
      "source": [
        "model_5_preds = make_preds(model_5, test_windows)\n",
        "model_5_preds[:10]"
      ]
    },
    {
      "cell_type": "code",
      "execution_count": null,
      "metadata": {
        "colab": {
          "base_uri": "https://localhost:8080/"
        },
        "id": "NsuqCw-t-ZQN",
        "outputId": "9e55f67a-5ff6-4608-9c2c-af72ff90a582"
      },
      "outputs": [
        {
          "output_type": "execute_result",
          "data": {
            "text/plain": [
              "{'mae': 580.61005,\n",
              " 'mape': 2.6319785,\n",
              " 'mase': 1.019971,\n",
              " 'mse': 1208065.8,\n",
              " 'rmse': 1099.1205}"
            ]
          },
          "metadata": {},
          "execution_count": 67
        }
      ],
      "source": [
        "model_5_results = evaluate_preds(y_true=tf.squeeze(test_labels),\n",
        "                                 y_pred=model_5_preds)\n",
        "model_5_results"
      ]
    },
    {
      "cell_type": "code",
      "execution_count": null,
      "metadata": {
        "colab": {
          "base_uri": "https://localhost:8080/"
        },
        "id": "YnrAPzNbBEJP",
        "outputId": "f70011e8-3c02-4a3b-ab71-512ac9fe03d6"
      },
      "outputs": [
        {
          "output_type": "display_data",
          "data": {
            "text/plain": [
              "<Figure size 432x288 with 1 Axes>"
            ],
            "image/png": "[encoded data removed]"
          },
          "metadata": {
            "needs_background": "light"
          }
        }
      ],
      "source": [
        "offset = 300\n",
        "plot_time_series(timesteps=X_test[-len(test_windows):], values=test_labels[:, 0], start=offset, label=\"Test_data\")\n",
        "plot_time_series(timesteps=X_test[-len(test_windows):], values=model_5_preds, start=offset, format=\"-\", label=\"model_5_preds\")"
      ]
    },
    {
      "cell_type": "code",
      "execution_count": null,
      "metadata": {
        "colab": {
          "base_uri": "https://localhost:8080/"
        },
        "id": "HH0bMh-SBFcM",
        "outputId": "c839c67c-2790-4a28-d04d-3107f3730685"
      },
      "outputs": [
        {
          "output_type": "display_data",
          "data": {
            "text/plain": [
              "<Figure size 432x288 with 1 Axes>"
            ],
            "image/png": "[encoded data removed]"
          },
          "metadata": {
            "needs_background": "light"
          }
        }
      ],
      "source": [
        "loss_curves(history_5)"
      ]
    },
    {
      "cell_type": "code",
      "execution_count": null,
      "metadata": {
        "id": "w4ZUxqtJ-ZTv"
      },
      "outputs": [],
      "source": [
        ""
      ]
    },
    {
      "cell_type": "code",
      "execution_count": null,
      "metadata": {
        "id": "i4qOoKXF-ZXM"
      },
      "outputs": [],
      "source": [
        "# ensemble_models = [model_1, model_5]\n",
        "# ensemble_models\n",
        "\n",
        "# def make_ensemble_preds(ensemble_models, data):\n",
        "#   ensemble_preds = []\n",
        "#   for model in ensemble_models:\n",
        "#     preds = model.predict(data) # make predictions with current ensemble model\n",
        "#     ensemble_preds.append(preds)\n",
        "#   return tf.constant(tf.squeeze(ensemble_preds))\n",
        "\n",
        "# ensemble_preds = make_ensemble_preds(ensemble_models=ensemble_models,\n",
        "#                                      data=test_windows)\n",
        "# ensemble_preds\n",
        "\n",
        "# ensemble_results = evaluate_preds(y_true=y_test[2:],\n",
        "#                                   y_pred=np.median(ensemble_preds, axis=0)) # take the median across all ensemble predictions\n",
        "# ensemble_results\n",
        "\n",
        "# pd.DataFrame({\n",
        "#               \"horizon_1_window_7_DENSE\": model_1_results[\"mae\"], \n",
        "#                 \"horizon_1_window_7_LSTM\": model_5_results[\"mae\"],\n",
        "#               \"horizon_1_window_7_ENSEMBLE\": ensemble_results[\"mae\"]\n",
        "#               }, index=[\"mae\"]).plot(figsize=(10, 7), kind=\"bar\");"
      ]
    },
    {
      "cell_type": "code",
      "execution_count": null,
      "metadata": {
        "id": "HvQf3wIs7ox-"
      },
      "outputs": [],
      "source": [
        "# len(ensemble_preds[0]), len(ensemble_preds[1])\n",
        "# len(np.median(ensemble_preds, axis=0))\n",
        "# len(y_test)"
      ]
    },
    {
      "cell_type": "markdown",
      "metadata": {
        "id": "59NQGfpTy4lz"
      },
      "source": [
        "## Model 3 : N-Beats\n"
      ]
    },
    {
      "cell_type": "markdown",
      "metadata": {
        "id": "-yan0GugbBix"
      },
      "source": [
        "### Preparing data for the N-BEATS algorithm using tf.data"
      ]
    },
    {
      "cell_type": "code",
      "execution_count": null,
      "metadata": {
        "id": "wB1NO1NK7pGJ"
      },
      "outputs": [],
      "source": [
        "HORIZON = 1 # how far to predict forward\n",
        "WINDOW_SIZE = 7 # how far to lookback"
      ]
    },
    {
      "cell_type": "code",
      "execution_count": null,
      "metadata": {
        "colab": {
          "base_uri": "https://localhost:8080/",
          "height": 223
        },
        "id": "sg7gC3PI7pNk",
        "outputId": "71913186-6aa0-4d99-f5ac-007f2fea297a"
      },
      "outputs": [
        {
          "output_type": "execute_result",
          "data": {
            "text/plain": [
              "                Close\n",
              "Date                 \n",
              "2013-10-01  123.65499\n",
              "2013-10-02  125.45500\n",
              "2013-10-03  108.58483\n",
              "2013-10-04  118.67466\n",
              "2013-10-05  121.33866"
            ],
            "text/html": [
              "\n",
              "  <div id=\"df-8679e6fc-80ac-4c45-8601-6d233db664bc\">\n",
              "    <div class=\"colab-df-container\">\n",
              "      <div>\n",
              "<style scoped>\n",
              "    .dataframe tbody tr th:only-of-type {\n",
              "        vertical-align: middle;\n",
              "    }\n",
              "\n",
              "    .dataframe tbody tr th {\n",
              "        vertical-align: top;\n",
              "    }\n",
              "\n",
              "    .dataframe thead th {\n",
              "        text-align: right;\n",
              "    }\n",
              "</style>\n",
              "<table border=\"1\" class=\"dataframe\">\n",
              "  <thead>\n",
              "    <tr style=\"text-align: right;\">\n",
              "      <th></th>\n",
              "      <th>Close</th>\n",
              "    </tr>\n",
              "    <tr>\n",
              "      <th>Date</th>\n",
              "      <th></th>\n",
              "    </tr>\n",
              "  </thead>\n",
              "  <tbody>\n",
              "    <tr>\n",
              "      <th>2013-10-01</th>\n",
              "      <td>123.65499</td>\n",
              "    </tr>\n",
              "    <tr>\n",
              "      <th>2013-10-02</th>\n",
              "      <td>125.45500</td>\n",
              "    </tr>\n",
              "    <tr>\n",
              "      <th>2013-10-03</th>\n",
              "      <td>108.58483</td>\n",
              "    </tr>\n",
              "    <tr>\n",
              "      <th>2013-10-04</th>\n",
              "      <td>118.67466</td>\n",
              "    </tr>\n",
              "    <tr>\n",
              "      <th>2013-10-05</th>\n",
              "      <td>121.33866</td>\n",
              "    </tr>\n",
              "  </tbody>\n",
              "</table>\n",
              "</div>\n",
              "      <button class=\"colab-df-convert\" onclick=\"convertToInteractive('df-8679e6fc-80ac-4c45-8601-6d233db664bc')\"\n",
              "              title=\"Convert this dataframe to an interactive table.\"\n",
              "              style=\"display:none;\">\n",
              "        \n",
              "  <svg xmlns=\"http://www.w3.org/2000/svg\" height=\"24px\"viewBox=\"0 0 24 24\"\n",
              "       width=\"24px\">\n",
              "    <path d=\"M0 0h24v24H0V0z\" fill=\"none\"/>\n",
              "    <path d=\"M18.56 5.44l.94 2.06.94-2.06 2.06-.94-2.06-.94-.94-2.06-.94 2.06-2.06.94zm-11 1L8.5 8.5l.94-2.06 2.06-.94-2.06-.94L8.5 2.5l-.94 2.06-2.06.94zm10 10l.94 2.06.94-2.06 2.06-.94-2.06-.94-.94-2.06-.94 2.06-2.06.94z\"/><path d=\"M17.41 7.96l-1.37-1.37c-.4-.4-.92-.59-1.43-.59-.52 0-1.04.2-1.43.59L10.3 9.45l-7.72 7.72c-.78.78-.78 2.05 0 2.83L4 21.41c.39.39.9.59 1.41.59.51 0 1.02-.2 1.41-.59l7.78-7.78 2.81-2.81c.8-.78.8-2.07 0-2.86zM5.41 20L4 18.59l7.72-7.72 1.47 1.35L5.41 20z\"/>\n",
              "  </svg>\n",
              "      </button>\n",
              "      \n",
              "  <style>\n",
              "    .colab-df-container {\n",
              "      display:flex;\n",
              "      flex-wrap:wrap;\n",
              "      gap: 12px;\n",
              "    }\n",
              "\n",
              "    .colab-df-convert {\n",
              "      background-color: #E8F0FE;\n",
              "      border: none;\n",
              "      border-radius: 50%;\n",
              "      cursor: pointer;\n",
              "      display: none;\n",
              "      fill: #1967D2;\n",
              "      height: 32px;\n",
              "      padding: 0 0 0 0;\n",
              "      width: 32px;\n",
              "    }\n",
              "\n",
              "    .colab-df-convert:hover {\n",
              "      background-color: #E2EBFA;\n",
              "      box-shadow: 0px 1px 2px rgba(60, 64, 67, 0.3), 0px 1px 3px 1px rgba(60, 64, 67, 0.15);\n",
              "      fill: #174EA6;\n",
              "    }\n",
              "\n",
              "    [theme=dark] .colab-df-convert {\n",
              "      background-color: #3B4455;\n",
              "      fill: #D2E3FC;\n",
              "    }\n",
              "\n",
              "    [theme=dark] .colab-df-convert:hover {\n",
              "      background-color: #434B5C;\n",
              "      box-shadow: 0px 1px 3px 1px rgba(0, 0, 0, 0.15);\n",
              "      filter: drop-shadow(0px 1px 2px rgba(0, 0, 0, 0.3));\n",
              "      fill: #FFFFFF;\n",
              "    }\n",
              "  </style>\n",
              "\n",
              "      <script>\n",
              "        const buttonEl =\n",
              "          document.querySelector('#df-8679e6fc-80ac-4c45-8601-6d233db664bc button.colab-df-convert');\n",
              "        buttonEl.style.display =\n",
              "          google.colab.kernel.accessAllowed ? 'block' : 'none';\n",
              "\n",
              "        async function convertToInteractive(key) {\n",
              "          const element = document.querySelector('#df-8679e6fc-80ac-4c45-8601-6d233db664bc');\n",
              "          const dataTable =\n",
              "            await google.colab.kernel.invokeFunction('convertToInteractive',\n",
              "                                                     [key], {});\n",
              "          if (!dataTable) return;\n",
              "\n",
              "          const docLinkHtml = 'Like what you see? Visit the ' +\n",
              "            '<a target=\"_blank\" href=https://colab.research.google.com/notebooks/data_table.ipynb>data table notebook</a>'\n",
              "            + ' to learn more about interactive tables.';\n",
              "          element.innerHTML = '';\n",
              "          dataTable['output_type'] = 'display_data';\n",
              "          await google.colab.output.renderOutput(dataTable, element);\n",
              "          const docLink = document.createElement('div');\n",
              "          docLink.innerHTML = docLinkHtml;\n",
              "          element.appendChild(docLink);\n",
              "        }\n",
              "      </script>\n",
              "    </div>\n",
              "  </div>\n",
              "  "
            ]
          },
          "metadata": {},
          "execution_count": 73
        }
      ],
      "source": [
        "df.head()"
      ]
    },
    {
      "cell_type": "code",
      "execution_count": null,
      "metadata": {
        "colab": {
          "base_uri": "https://localhost:8080/",
          "height": 223
        },
        "id": "0Cnld2xv7pU7",
        "outputId": "1ad96ce4-2983-4ae9-e3ae-5aaa4b8c8a96"
      },
      "outputs": [
        {
          "output_type": "execute_result",
          "data": {
            "text/plain": [
              "                Close    Close+1    Close+2    Close+3    Close+4    Close+5  \\\n",
              "Date                                                                           \n",
              "2013-10-08  123.03300  121.79500  120.65533  121.33866  118.67466  108.58483   \n",
              "2013-10-09  124.04900  123.03300  121.79500  120.65533  121.33866  118.67466   \n",
              "2013-10-10  125.96116  124.04900  123.03300  121.79500  120.65533  121.33866   \n",
              "2013-10-11  125.27966  125.96116  124.04900  123.03300  121.79500  120.65533   \n",
              "2013-10-12  125.92750  125.27966  125.96116  124.04900  123.03300  121.79500   \n",
              "\n",
              "              Close+6    Close+7  \n",
              "Date                              \n",
              "2013-10-08  125.45500  123.65499  \n",
              "2013-10-09  108.58483  125.45500  \n",
              "2013-10-10  118.67466  108.58483  \n",
              "2013-10-11  121.33866  118.67466  \n",
              "2013-10-12  120.65533  121.33866  "
            ],
            "text/html": [
              "\n",
              "  <div id=\"df-5f858b8c-4056-4ed2-b4a8-c62f80ab71c5\">\n",
              "    <div class=\"colab-df-container\">\n",
              "      <div>\n",
              "<style scoped>\n",
              "    .dataframe tbody tr th:only-of-type {\n",
              "        vertical-align: middle;\n",
              "    }\n",
              "\n",
              "    .dataframe tbody tr th {\n",
              "        vertical-align: top;\n",
              "    }\n",
              "\n",
              "    .dataframe thead th {\n",
              "        text-align: right;\n",
              "    }\n",
              "</style>\n",
              "<table border=\"1\" class=\"dataframe\">\n",
              "  <thead>\n",
              "    <tr style=\"text-align: right;\">\n",
              "      <th></th>\n",
              "      <th>Close</th>\n",
              "      <th>Close+1</th>\n",
              "      <th>Close+2</th>\n",
              "      <th>Close+3</th>\n",
              "      <th>Close+4</th>\n",
              "      <th>Close+5</th>\n",
              "      <th>Close+6</th>\n",
              "      <th>Close+7</th>\n",
              "    </tr>\n",
              "    <tr>\n",
              "      <th>Date</th>\n",
              "      <th></th>\n",
              "      <th></th>\n",
              "      <th></th>\n",
              "      <th></th>\n",
              "      <th></th>\n",
              "      <th></th>\n",
              "      <th></th>\n",
              "      <th></th>\n",
              "    </tr>\n",
              "  </thead>\n",
              "  <tbody>\n",
              "    <tr>\n",
              "      <th>2013-10-08</th>\n",
              "      <td>123.03300</td>\n",
              "      <td>121.79500</td>\n",
              "      <td>120.65533</td>\n",
              "      <td>121.33866</td>\n",
              "      <td>118.67466</td>\n",
              "      <td>108.58483</td>\n",
              "      <td>125.45500</td>\n",
              "      <td>123.65499</td>\n",
              "    </tr>\n",
              "    <tr>\n",
              "      <th>2013-10-09</th>\n",
              "      <td>124.04900</td>\n",
              "      <td>123.03300</td>\n",
              "      <td>121.79500</td>\n",
              "      <td>120.65533</td>\n",
              "      <td>121.33866</td>\n",
              "      <td>118.67466</td>\n",
              "      <td>108.58483</td>\n",
              "      <td>125.45500</td>\n",
              "    </tr>\n",
              "    <tr>\n",
              "      <th>2013-10-10</th>\n",
              "      <td>125.96116</td>\n",
              "      <td>124.04900</td>\n",
              "      <td>123.03300</td>\n",
              "      <td>121.79500</td>\n",
              "      <td>120.65533</td>\n",
              "      <td>121.33866</td>\n",
              "      <td>118.67466</td>\n",
              "      <td>108.58483</td>\n",
              "    </tr>\n",
              "    <tr>\n",
              "      <th>2013-10-11</th>\n",
              "      <td>125.27966</td>\n",
              "      <td>125.96116</td>\n",
              "      <td>124.04900</td>\n",
              "      <td>123.03300</td>\n",
              "      <td>121.79500</td>\n",
              "      <td>120.65533</td>\n",
              "      <td>121.33866</td>\n",
              "      <td>118.67466</td>\n",
              "    </tr>\n",
              "    <tr>\n",
              "      <th>2013-10-12</th>\n",
              "      <td>125.92750</td>\n",
              "      <td>125.27966</td>\n",
              "      <td>125.96116</td>\n",
              "      <td>124.04900</td>\n",
              "      <td>123.03300</td>\n",
              "      <td>121.79500</td>\n",
              "      <td>120.65533</td>\n",
              "      <td>121.33866</td>\n",
              "    </tr>\n",
              "  </tbody>\n",
              "</table>\n",
              "</div>\n",
              "      <button class=\"colab-df-convert\" onclick=\"convertToInteractive('df-5f858b8c-4056-4ed2-b4a8-c62f80ab71c5')\"\n",
              "              title=\"Convert this dataframe to an interactive table.\"\n",
              "              style=\"display:none;\">\n",
              "        \n",
              "  <svg xmlns=\"http://www.w3.org/2000/svg\" height=\"24px\"viewBox=\"0 0 24 24\"\n",
              "       width=\"24px\">\n",
              "    <path d=\"M0 0h24v24H0V0z\" fill=\"none\"/>\n",
              "    <path d=\"M18.56 5.44l.94 2.06.94-2.06 2.06-.94-2.06-.94-.94-2.06-.94 2.06-2.06.94zm-11 1L8.5 8.5l.94-2.06 2.06-.94-2.06-.94L8.5 2.5l-.94 2.06-2.06.94zm10 10l.94 2.06.94-2.06 2.06-.94-2.06-.94-.94-2.06-.94 2.06-2.06.94z\"/><path d=\"M17.41 7.96l-1.37-1.37c-.4-.4-.92-.59-1.43-.59-.52 0-1.04.2-1.43.59L10.3 9.45l-7.72 7.72c-.78.78-.78 2.05 0 2.83L4 21.41c.39.39.9.59 1.41.59.51 0 1.02-.2 1.41-.59l7.78-7.78 2.81-2.81c.8-.78.8-2.07 0-2.86zM5.41 20L4 18.59l7.72-7.72 1.47 1.35L5.41 20z\"/>\n",
              "  </svg>\n",
              "      </button>\n",
              "      \n",
              "  <style>\n",
              "    .colab-df-container {\n",
              "      display:flex;\n",
              "      flex-wrap:wrap;\n",
              "      gap: 12px;\n",
              "    }\n",
              "\n",
              "    .colab-df-convert {\n",
              "      background-color: #E8F0FE;\n",
              "      border: none;\n",
              "      border-radius: 50%;\n",
              "      cursor: pointer;\n",
              "      display: none;\n",
              "      fill: #1967D2;\n",
              "      height: 32px;\n",
              "      padding: 0 0 0 0;\n",
              "      width: 32px;\n",
              "    }\n",
              "\n",
              "    .colab-df-convert:hover {\n",
              "      background-color: #E2EBFA;\n",
              "      box-shadow: 0px 1px 2px rgba(60, 64, 67, 0.3), 0px 1px 3px 1px rgba(60, 64, 67, 0.15);\n",
              "      fill: #174EA6;\n",
              "    }\n",
              "\n",
              "    [theme=dark] .colab-df-convert {\n",
              "      background-color: #3B4455;\n",
              "      fill: #D2E3FC;\n",
              "    }\n",
              "\n",
              "    [theme=dark] .colab-df-convert:hover {\n",
              "      background-color: #434B5C;\n",
              "      box-shadow: 0px 1px 3px 1px rgba(0, 0, 0, 0.15);\n",
              "      filter: drop-shadow(0px 1px 2px rgba(0, 0, 0, 0.3));\n",
              "      fill: #FFFFFF;\n",
              "    }\n",
              "  </style>\n",
              "\n",
              "      <script>\n",
              "        const buttonEl =\n",
              "          document.querySelector('#df-5f858b8c-4056-4ed2-b4a8-c62f80ab71c5 button.colab-df-convert');\n",
              "        buttonEl.style.display =\n",
              "          google.colab.kernel.accessAllowed ? 'block' : 'none';\n",
              "\n",
              "        async function convertToInteractive(key) {\n",
              "          const element = document.querySelector('#df-5f858b8c-4056-4ed2-b4a8-c62f80ab71c5');\n",
              "          const dataTable =\n",
              "            await google.colab.kernel.invokeFunction('convertToInteractive',\n",
              "                                                     [key], {});\n",
              "          if (!dataTable) return;\n",
              "\n",
              "          const docLinkHtml = 'Like what you see? Visit the ' +\n",
              "            '<a target=\"_blank\" href=https://colab.research.google.com/notebooks/data_table.ipynb>data table notebook</a>'\n",
              "            + ' to learn more about interactive tables.';\n",
              "          element.innerHTML = '';\n",
              "          dataTable['output_type'] = 'display_data';\n",
              "          await google.colab.output.renderOutput(dataTable, element);\n",
              "          const docLink = document.createElement('div');\n",
              "          docLink.innerHTML = docLinkHtml;\n",
              "          element.appendChild(docLink);\n",
              "        }\n",
              "      </script>\n",
              "    </div>\n",
              "  </div>\n",
              "  "
            ]
          },
          "metadata": {},
          "execution_count": 74
        }
      ],
      "source": [
        "# Add windowed columns\n",
        "bitcoin_prices_nbeats = df.copy()\n",
        "for i in range(WINDOW_SIZE):\n",
        "  bitcoin_prices_nbeats[f\"Close+{i+1}\"] = bitcoin_prices_nbeats[\"Close\"].shift(periods=i+1)\n",
        "bitcoin_prices_nbeats.dropna().head()"
      ]
    },
    {
      "cell_type": "code",
      "execution_count": null,
      "metadata": {
        "colab": {
          "base_uri": "https://localhost:8080/"
        },
        "id": "n57UJWN97pj1",
        "outputId": "86110e5b-1dd5-4d4c-def3-76b4d1802963"
      },
      "outputs": [
        {
          "output_type": "execute_result",
          "data": {
            "text/plain": [
              "(2224, 2224, 556, 556)"
            ]
          },
          "metadata": {},
          "execution_count": 75
        }
      ],
      "source": [
        "X = bitcoin_prices_nbeats.dropna().drop(\"Close\", axis=1)\n",
        "y = bitcoin_prices_nbeats.dropna()[\"Close\"]\n",
        "\n",
        "# Make train and test sets\n",
        "split_size = int(len(X) * 0.8)\n",
        "X_train, y_train = X[:split_size], y[:split_size]\n",
        "X_test, y_test = X[split_size:], y[split_size:]\n",
        "len(X_train), len(y_train), len(X_test), len(y_test)"
      ]
    },
    {
      "cell_type": "code",
      "execution_count": null,
      "metadata": {
        "colab": {
          "base_uri": "https://localhost:8080/"
        },
        "id": "i4NXNmVTc6O9",
        "outputId": "677b54d2-a922-4fe9-afd4-e89c7ec615a9"
      },
      "outputs": [
        {
          "output_type": "execute_result",
          "data": {
            "text/plain": [
              "(<PrefetchDataset element_spec=(TensorSpec(shape=(None, 7), dtype=tf.float64, name=None), TensorSpec(shape=(None,), dtype=tf.float64, name=None))>,\n",
              " <PrefetchDataset element_spec=(TensorSpec(shape=(None, 7), dtype=tf.float64, name=None), TensorSpec(shape=(None,), dtype=tf.float64, name=None))>)"
            ]
          },
          "metadata": {},
          "execution_count": 76
        }
      ],
      "source": [
        "# 1. Turn train and test arrays into tensor Datasets\n",
        "train_features_dataset = tf.data.Dataset.from_tensor_slices(X_train)\n",
        "train_labels_dataset = tf.data.Dataset.from_tensor_slices(y_train)\n",
        "\n",
        "test_features_dataset = tf.data.Dataset.from_tensor_slices(X_test)\n",
        "test_labels_dataset = tf.data.Dataset.from_tensor_slices(y_test)\n",
        "\n",
        "# 2. Combine features & labels\n",
        "train_dataset = tf.data.Dataset.zip((train_features_dataset, train_labels_dataset))\n",
        "test_dataset = tf.data.Dataset.zip((test_features_dataset, test_labels_dataset))\n",
        "\n",
        "# 3. Batch and prefetch for optimal performance\n",
        "BATCH_SIZE = 1024 # taken from Appendix D in N-BEATS paper\n",
        "train_dataset = train_dataset.batch(BATCH_SIZE).prefetch(tf.data.AUTOTUNE)\n",
        "test_dataset = test_dataset.batch(BATCH_SIZE).prefetch(tf.data.AUTOTUNE)\n",
        "\n",
        "train_dataset, test_dataset"
      ]
    },
    {
      "cell_type": "markdown",
      "metadata": {
        "id": "o7zW2aWgctUk"
      },
      "source": [
        "### Trying out previous model on modified data\n"
      ]
    },
    {
      "cell_type": "code",
      "execution_count": null,
      "metadata": {
        "id": "8H1qctyf7pyI"
      },
      "outputs": [],
      "source": [
        "## Base Model Dense\n",
        "\n",
        "tf.random.set_seed(42)\n",
        "\n",
        "model_2 = tf.keras.Sequential([\n",
        "    layers.Dense(128,activation = 'relu'),\n",
        "    layers.Dense(128,activation = 'relu'),\n",
        "    layers.Dense(128,activation = 'relu'),\n",
        "    layers.Dense(1, activation ='linear')\n",
        "], name = 'model_2_dense')\n",
        "\n",
        "model_2.compile(loss = 'mae', \n",
        "                optimizer = 'adam', \n",
        "                metrics = ['mae'])\n",
        "\n",
        "history_2 = model_2.fit(train_dataset,\n",
        "            epochs = 100,\n",
        "            verbose = 0,\n",
        "            batch_size = 128,\n",
        "            validation_data = test_dataset,\n",
        "            callbacks = [create_model_checkpoint(model_name = model_2.name)])"
      ]
    },
    {
      "cell_type": "code",
      "execution_count": null,
      "metadata": {
        "colab": {
          "base_uri": "https://localhost:8080/"
        },
        "id": "ddXbRGvackjq",
        "outputId": "aa6fd7b4-c41f-4bb1-b189-cce26bb7d4de"
      },
      "outputs": [
        {
          "output_type": "display_data",
          "data": {
            "text/plain": [
              "<Figure size 432x288 with 1 Axes>"
            ],
            "image/png": "[encoded data removed]"
          },
          "metadata": {
            "needs_background": "light"
          }
        }
      ],
      "source": [
        "loss_curves(history_2)"
      ]
    },
    {
      "cell_type": "code",
      "execution_count": null,
      "metadata": {
        "colab": {
          "base_uri": "https://localhost:8080/"
        },
        "id": "cFpQbnvrexRp",
        "outputId": "ba474465-748f-452b-83d6-9e391b3e9afd"
      },
      "outputs": [
        {
          "output_type": "stream",
          "name": "stdout",
          "text": [
            "1/1 [==============================] - 0s 101ms/step - loss: 585.4970 - mae: 585.4970\n"
          ]
        },
        {
          "output_type": "execute_result",
          "data": {
            "text/plain": [
              "[585.4970092773438, 585.4970092773438]"
            ]
          },
          "metadata": {},
          "execution_count": 79
        }
      ],
      "source": [
        "model_2 = tf.keras.models.load_model(\"model_experiments/model_2_dense/\")\n",
        "model_2.evaluate(test_dataset)"
      ]
    },
    {
      "cell_type": "code",
      "execution_count": null,
      "metadata": {
        "colab": {
          "base_uri": "https://localhost:8080/"
        },
        "id": "BjcoKKescqMN",
        "outputId": "9e158cb1-b3a2-44fb-942c-e25c6a07b2a9"
      },
      "outputs": [
        {
          "output_type": "execute_result",
          "data": {
            "text/plain": [
              "<tf.Tensor: shape=(10,), dtype=float32, numpy=\n",
              "array([8909.276, 8828.334, 8988.707, 8778.18 , 8764.121, 8722.803,\n",
              "       8671.104, 8574.676, 8453.711, 8520.249], dtype=float32)>"
            ]
          },
          "metadata": {},
          "execution_count": 80
        }
      ],
      "source": [
        "model_2_preds = make_preds(model_2, test_dataset)\n",
        "model_2_preds[:10]"
      ]
    },
    {
      "cell_type": "code",
      "execution_count": null,
      "metadata": {
        "colab": {
          "base_uri": "https://localhost:8080/"
        },
        "id": "KhRnkbQjcrDQ",
        "outputId": "3852d8e0-98db-4186-8741-e3019c3d28a2"
      },
      "outputs": [
        {
          "output_type": "execute_result",
          "data": {
            "text/plain": [
              "{'mae': 585.497,\n",
              " 'mape': 2.6438901,\n",
              " 'mase': 1.0285561,\n",
              " 'mse': 1235332.6,\n",
              " 'rmse': 1111.4552}"
            ]
          },
          "metadata": {},
          "execution_count": 81
        }
      ],
      "source": [
        "model_2_results = evaluate_preds(y_test, model_2_preds)\n",
        "model_2_results"
      ]
    },
    {
      "cell_type": "code",
      "execution_count": null,
      "metadata": {
        "id": "h-Zr0OlucrHJ"
      },
      "outputs": [],
      "source": [
        "tf.random.set_seed(42)\n",
        "\n",
        "# Let's build an LSTM model with the Functional API\n",
        "inputs = layers.Input(shape=(WINDOW_SIZE))\n",
        "x = layers.Lambda(lambda x: tf.expand_dims(x, axis=1))(inputs) # expand input dimension to be compatible with LSTM\n",
        "# print(x.shape)\n",
        "# x = layers.LSTM(128, activation=\"relu\", return_sequences=True)(x) # this layer will error if the inputs are not the right shape\n",
        "x = layers.LSTM(128, activation=\"relu\", return_sequences = True)(x)\n",
        "x = layers.LSTM(128, activation=\"relu\", return_sequences = True)(x)\n",
        "x = layers.LSTM(128, activation=\"relu\")(x) # using the tanh loss function results in a massive error\n",
        "# print(x.shape)\n",
        "# Add another optional dense layer (you could add more of these to see if they improve model performance)\n",
        "# x = layers.Dense(32, activation=\"relu\")(x)\n",
        "output = layers.Dense(HORIZON)(x)\n",
        "model_3 = tf.keras.Model(inputs=inputs, outputs=output, name=\"model_3_lstm\")\n",
        "\n",
        "# Compile model\n",
        "model_3.compile(loss=\"mae\",\n",
        "                optimizer=tf.keras.optimizers.Adam())\n",
        "\n",
        "# Seems when saving the model several warnings are appearing: https://github.com/tensorflow/tensorflow/issues/47554 \n",
        "history_3 = model_3.fit(train_dataset,\n",
        "            epochs=100,\n",
        "            verbose=0,\n",
        "            batch_size=128,\n",
        "            validation_data=test_dataset,\n",
        "            callbacks=[create_model_checkpoint(model_name=model_3.name)])"
      ]
    },
    {
      "cell_type": "code",
      "execution_count": null,
      "metadata": {
        "colab": {
          "base_uri": "https://localhost:8080/"
        },
        "id": "gZrQgIbvcrKM",
        "outputId": "f8cea771-30bc-4423-8b82-32abf5bd725a"
      },
      "outputs": [
        {
          "output_type": "display_data",
          "data": {
            "text/plain": [
              "<Figure size 432x288 with 1 Axes>"
            ],
            "image/png": "[encoded data removed]"
          },
          "metadata": {
            "needs_background": "light"
          }
        }
      ],
      "source": [
        "loss_curves(history_3)"
      ]
    },
    {
      "cell_type": "code",
      "execution_count": null,
      "metadata": {
        "colab": {
          "base_uri": "https://localhost:8080/"
        },
        "id": "LLlCtAgNcrNe",
        "outputId": "dfa0f820-a498-4b8f-8ade-95a7c1217dcf"
      },
      "outputs": [
        {
          "output_type": "stream",
          "name": "stdout",
          "text": [
            "1/1 [==============================] - 0s 370ms/step - loss: 768.7718\n"
          ]
        },
        {
          "output_type": "execute_result",
          "data": {
            "text/plain": [
              "768.7717895507812"
            ]
          },
          "metadata": {},
          "execution_count": 84
        }
      ],
      "source": [
        "model_3 = tf.keras.models.load_model(\"model_experiments/model_3_lstm/\")\n",
        "model_3.evaluate(test_dataset)"
      ]
    },
    {
      "cell_type": "code",
      "execution_count": null,
      "metadata": {
        "colab": {
          "base_uri": "https://localhost:8080/"
        },
        "id": "KZaghVyuhSiw",
        "outputId": "d39245e6-d8bb-40a0-b61f-aaba7bd5737c"
      },
      "outputs": [
        {
          "output_type": "execute_result",
          "data": {
            "text/plain": [
              "<tf.Tensor: shape=(10,), dtype=float32, numpy=\n",
              "array([9186.882, 9133.177, 9147.074, 8981.908, 8948.307, 8891.164,\n",
              "       8793.598, 8749.481, 8684.72 , 8643.108], dtype=float32)>"
            ]
          },
          "metadata": {},
          "execution_count": 85
        }
      ],
      "source": [
        "model_3_preds= make_preds(model_3, test_dataset)\n",
        "model_3_preds[:10]"
      ]
    },
    {
      "cell_type": "code",
      "execution_count": null,
      "metadata": {
        "colab": {
          "base_uri": "https://localhost:8080/"
        },
        "id": "hiKLjqaVhSqo",
        "outputId": "48fcd33b-bf92-4272-951e-c6107a6f81d0"
      },
      "outputs": [
        {
          "output_type": "execute_result",
          "data": {
            "text/plain": [
              "{'mae': 768.7718,\n",
              " 'mape': 3.4696374,\n",
              " 'mase': 1.3505191,\n",
              " 'mse': 2018388.5,\n",
              " 'rmse': 1420.7}"
            ]
          },
          "metadata": {},
          "execution_count": 86
        }
      ],
      "source": [
        "model_3_results = evaluate_preds(y_test, model_3_preds)\n",
        "model_3_results"
      ]
    },
    {
      "cell_type": "code",
      "execution_count": null,
      "metadata": {
        "colab": {
          "base_uri": "https://localhost:8080/"
        },
        "id": "wqW8aMVThSwK",
        "outputId": "1b9a2d74-6b36-4c07-9d51-2d514b99c9f9"
      },
      "outputs": [
        {
          "output_type": "display_data",
          "data": {
            "text/plain": [
              "<Figure size 720x504 with 1 Axes>"
            ],
            "image/png": "[encoded data removed]"
          },
          "metadata": {
            "needs_background": "light"
          }
        }
      ],
      "source": [
        "offset = 0\n",
        "plt.figure(figsize=(10, 7))\n",
        "# Account for the test_window offset\n",
        "plot_time_series(X.index, y, label=\"Original Data\")\n",
        "plot_time_series(timesteps=X_test.index, values=model_2_preds, start=offset, format=\"-\", label=\"model_2_preds\")"
      ]
    },
    {
      "cell_type": "code",
      "execution_count": null,
      "metadata": {
        "colab": {
          "base_uri": "https://localhost:8080/"
        },
        "id": "3qSwaoLXhSz7",
        "outputId": "75ec4de4-4db9-48a6-fe69-2351b28a23f6"
      },
      "outputs": [
        {
          "output_type": "display_data",
          "data": {
            "text/plain": [
              "<Figure size 720x504 with 1 Axes>"
            ],
            "image/png": "[encoded data removed]"
          },
          "metadata": {
            "needs_background": "light"
          }
        }
      ],
      "source": [
        "offset = 0\n",
        "plt.figure(figsize=(10, 7))\n",
        "# Account for the test_window offset\n",
        "plot_time_series(X_test.index, y_test, label=\"Test Data\")\n",
        "plot_time_series(timesteps=X_test.index, values=model_2_preds, start=offset, format=\"-\", label=\"model_2_preds\")"
      ]
    },
    {
      "cell_type": "code",
      "execution_count": null,
      "metadata": {
        "colab": {
          "base_uri": "https://localhost:8080/"
        },
        "id": "q-XRtLOtlHMo",
        "outputId": "aa9ba296-0e00-49fb-b62a-caa6af0010cf"
      },
      "outputs": [
        {
          "output_type": "display_data",
          "data": {
            "text/plain": [
              "<Figure size 720x504 with 1 Axes>"
            ],
            "image/png": "[encoded data removed]"
          },
          "metadata": {
            "needs_background": "light"
          }
        }
      ],
      "source": [
        "offset = 0\n",
        "plt.figure(figsize=(10, 7))\n",
        "# Account for the test_window offset\n",
        "plot_time_series(X_test.index, y_test, label=\"Test Data\")\n",
        "plot_time_series(timesteps=X_test.index, values=model_3_preds, start=offset, format=\"-\", label=\"model_3_preds\")"
      ]
    },
    {
      "cell_type": "markdown",
      "metadata": {
        "id": "BBIkRAN8lm1B"
      },
      "source": [
        "###  Building and Testing the N-Beats Block Layer\n",
        "\n"
      ]
    },
    {
      "cell_type": "code",
      "execution_count": null,
      "metadata": {
        "id": "Igv3B-Oj7o3D"
      },
      "outputs": [],
      "source": [
        "# Create NBeatsBlock custom layer \n",
        "class NBeatsBlock(tf.keras.layers.Layer):\n",
        "  def __init__(self, # the constructor takes all the hyperparameters for the layer\n",
        "               input_size: int,\n",
        "               theta_size: int,\n",
        "               horizon: int,\n",
        "               n_neurons: int,\n",
        "               n_layers: int,\n",
        "               **kwargs): # the **kwargs argument takes care of all of the arguments for the parent class (input_shape, trainable, name)\n",
        "    super().__init__(**kwargs)\n",
        "    self.input_size = input_size\n",
        "    self.theta_size = theta_size\n",
        "    self.horizon = horizon\n",
        "    self.n_neurons = n_neurons\n",
        "    self.n_layers = n_layers\n",
        "\n",
        "    # Block contains stack of 4 fully connected layers each has ReLU activation\n",
        "    self.hidden = [tf.keras.layers.Dense(n_neurons, activation=\"relu\") for _ in range(n_layers)]\n",
        "    # Output of block is a theta layer with linear activation\n",
        "    self.theta_layer = tf.keras.layers.Dense(theta_size, activation=\"linear\", name=\"theta\")\n",
        "\n",
        "  def call(self, inputs): # the call method is what runs when the layer is called \n",
        "    x = inputs \n",
        "    for layer in self.hidden: # pass inputs through each hidden layer \n",
        "      x = layer(x)\n",
        "    theta = self.theta_layer(x) \n",
        "    # Output the backcast and forecast from theta\n",
        "    backcast, forecast = theta[:, :self.input_size], theta[:, -self.horizon:]\n",
        "    return backcast, forecast"
      ]
    },
    {
      "cell_type": "code",
      "execution_count": null,
      "metadata": {
        "id": "89B4LXaMlebG"
      },
      "outputs": [],
      "source": [
        "# Set up dummy NBeatsBlock layer to represent inputs and outputs\n",
        "dummy_nbeats_block_layer = NBeatsBlock(input_size=WINDOW_SIZE, \n",
        "                                       theta_size=WINDOW_SIZE+HORIZON, # backcast + forecast \n",
        "                                       horizon=HORIZON,\n",
        "                                       n_neurons=128,\n",
        "                                       n_layers=4)"
      ]
    },
    {
      "cell_type": "code",
      "execution_count": null,
      "metadata": {
        "colab": {
          "base_uri": "https://localhost:8080/"
        },
        "id": "XtKP4UklljAI",
        "outputId": "5ffbe582-da7f-4b04-a778-52394c061cc7"
      },
      "outputs": [
        {
          "output_type": "execute_result",
          "data": {
            "text/plain": [
              "<tf.Tensor: shape=(1, 7), dtype=int32, numpy=array([[1, 2, 3, 4, 5, 6, 7]], dtype=int32)>"
            ]
          },
          "metadata": {},
          "execution_count": 92
        }
      ],
      "source": [
        "dummy_inputs = tf.expand_dims(tf.range(WINDOW_SIZE) + 1, axis=0) # input shape to the model has to reflect Dense layer input requirements (ndim=2)\n",
        "dummy_inputs"
      ]
    },
    {
      "cell_type": "code",
      "execution_count": null,
      "metadata": {
        "colab": {
          "base_uri": "https://localhost:8080/"
        },
        "id": "TqqC0fpNuKOp",
        "outputId": "386aec6a-8813-4597-fdbb-9704dc8de773"
      },
      "outputs": [
        {
          "output_type": "stream",
          "name": "stdout",
          "text": [
            "Backcast: [-0.1197367   0.5126637   0.61159366 -0.4715315  -0.8028359  -0.15500176\n",
            "  0.68190247]\n",
            "Forecast: 0.38599205017089844\n"
          ]
        }
      ],
      "source": [
        "# Pass dummy inputs to dummy NBeatsBlock layer\n",
        "backcast, forecast = dummy_nbeats_block_layer(dummy_inputs)\n",
        "# These are the activation outputs of the theta layer (they'll be random due to no training of the model)\n",
        "print(f\"Backcast: {tf.squeeze(backcast.numpy())}\")\n",
        "print(f\"Forecast: {tf.squeeze(forecast.numpy())}\")"
      ]
    },
    {
      "cell_type": "markdown",
      "metadata": {
        "id": "utPoC40Rsygk"
      },
      "source": [
        "### Settign up HYPERPARAMETERS for NBEATS"
      ]
    },
    {
      "cell_type": "code",
      "execution_count": null,
      "metadata": {
        "id": "XR4R9oLsw29c"
      },
      "outputs": [],
      "source": [
        "N_EPOCHS = 5000\n",
        "N_NEURONS = 512\n",
        "N_LAYERS = 4\n",
        "N_STACKS = 30\n",
        "\n",
        "INPUT_SIZE = WINDOW_SIZE * HORIZON\n",
        "\n",
        "THETA_SIZE = INPUT_SIZE + HORIZON"
      ]
    },
    {
      "cell_type": "markdown",
      "metadata": {
        "id": "EO5KK3VbLcmv"
      },
      "source": [
        "### Getting Ready for Residual Connections\n"
      ]
    },
    {
      "cell_type": "code",
      "execution_count": null,
      "metadata": {
        "colab": {
          "base_uri": "https://localhost:8080/"
        },
        "id": "ljwiomFpw3Fa",
        "outputId": "b5e8dee9-ff69-4bba-b838-d631c6c2d045"
      },
      "outputs": [
        {
          "output_type": "execute_result",
          "data": {
            "text/plain": [
              "(<tf.Tensor: shape=(10,), dtype=int32, numpy=array([10, 11, 12, 13, 14, 15, 16, 17, 18, 19], dtype=int32)>,\n",
              " <tf.Tensor: shape=(10,), dtype=int32, numpy=array([0, 1, 2, 3, 4, 5, 6, 7, 8, 9], dtype=int32)>)"
            ]
          },
          "metadata": {},
          "execution_count": 95
        }
      ],
      "source": [
        "# Make Tensors and example operation for addition and subtaction with tensors, layers.add and layers.subtract\n",
        "\n",
        "tensor_1 = tf.range(10) + 10\n",
        "tensor_2 = tf.range(10)\n",
        "\n",
        "tensor_1, tensor_2"
      ]
    },
    {
      "cell_type": "code",
      "execution_count": null,
      "metadata": {
        "colab": {
          "base_uri": "https://localhost:8080/"
        },
        "id": "Stoqk7sIw3My",
        "outputId": "0574afb5-7f87-4d66-e9e0-efaf937b59c1"
      },
      "outputs": [
        {
          "output_type": "execute_result",
          "data": {
            "text/plain": [
              "(<tf.Tensor: shape=(10,), dtype=int32, numpy=array([10, 10, 10, 10, 10, 10, 10, 10, 10, 10], dtype=int32)>,\n",
              " <tf.Tensor: shape=(10,), dtype=int32, numpy=array([10, 12, 14, 16, 18, 20, 22, 24, 26, 28], dtype=int32)>)"
            ]
          },
          "metadata": {},
          "execution_count": 96
        }
      ],
      "source": [
        "#subtract\n",
        "subtracted = layers.subtract([tensor_1, tensor_2])\n",
        "\n",
        "#add\n",
        "added = layers.add([tensor_1, tensor_2])\n",
        "\n",
        "subtracted, added"
      ]
    },
    {
      "cell_type": "markdown",
      "metadata": {
        "id": "h-c4kfRGNA-_"
      },
      "source": [
        "### Building, Compiling and Fitting NBEATS\n",
        "\n",
        "1. Setup an Instance of NBeats Block Layer using \"NBeatsBlock\" \n",
        "2. Create an Input Layer for NBeats Stack (we would be using the Functional API)\n",
        "3. Make the initial Backcast and Forecast for the model with the layer in (1)\n",
        "4. Use for loop to create stacks of block layers\n",
        "5. Use the NbeatsBlock class within the for loop in (4) to create blocks which return the backcast and block level forecast\n",
        "6. Create the Double Residual Stacking using layers.add and layers.subtract\n",
        "7. Put the model inputs and outputs together using tf.keras.Model()\n",
        "8. Compile the model with MAE loss and Adam Optimizer\n",
        "9. Fit the model for 5000 Epochs and use callbacks for early stopping and reduce LR on Plateau\n",
        "\n",
        "\n",
        "\n",
        "\n"
      ]
    },
    {
      "cell_type": "code",
      "execution_count": null,
      "metadata": {
        "colab": {
          "base_uri": "https://localhost:8080/"
        },
        "id": "KmvlXLOaw3RY",
        "outputId": "7985772c-997a-4528-db38-46be17a545b8"
      },
      "outputs": [
        {
          "output_type": "stream",
          "name": "stdout",
          "text": [
            "\n",
            "Epoch 876: ReduceLROnPlateau reducing learning rate to 0.00010000000474974513.\n",
            "\n",
            "Epoch 1300: ReduceLROnPlateau reducing learning rate to 1.0000000474974514e-05.\n",
            "\n",
            "Epoch 1400: ReduceLROnPlateau reducing learning rate to 1.0000000656873453e-06.\n",
            "CPU times: user 3min 53s, sys: 7.23 s, total: 4min 1s\n",
            "Wall time: 4min 41s\n"
          ]
        }
      ],
      "source": [
        "%%time\n",
        "\n",
        "tf.random.set_seed(42)\n",
        "\n",
        "# Setup an Instance of NBeats Block Layer using \"NBeatsBlock\"\n",
        "nbeats_block_layer = NBeatsBlock(input_size = INPUT_SIZE,\n",
        "                                 theta_size = THETA_SIZE,\n",
        "                                 horizon = HORIZON,\n",
        "                                 n_neurons = N_NEURONS,\n",
        "                                 n_layers = N_LAYERS,\n",
        "                                 name = \"InitialBlock\")\n",
        "\n",
        "#Create an input for nbeats stack\n",
        "stack_input = layers.Input(shape = (INPUT_SIZE), name = \"stack_input\")\n",
        "\n",
        "# Create initial backcast and forecast input (backward prediction and forward prediction)\n",
        "residuals, forecast = nbeats_block_layer(stack_input)\n",
        "\n",
        "# Create a for loop for stacks of block layes\n",
        "for i, _ in enumerate(range(N_STACKS-1)):\n",
        "\n",
        "  # use the nbeats block to calculate the backcast and forecast\n",
        "  backcast, block_forecast = NBeatsBlock(\n",
        "      input_size = INPUT_SIZE,\n",
        "      theta_size = THETA_SIZE,\n",
        "      horizon = HORIZON,\n",
        "      n_neurons = N_NEURONS,\n",
        "      n_layers = N_LAYERS,\n",
        "      name = f\"NBeatsBlock_{i}\"\n",
        "  )(residuals)  # pass in the residuals as input\n",
        "\n",
        "  # create the double residual stacking using tf.layers.add and tf.layers.subtract\n",
        "  residuals = layers.subtract([residuals,backcast], name = f\"subtract_{i}\")\n",
        "  forecast =layers.add([forecast, block_forecast], name = f\"add_{i}\")\n",
        "\n",
        "# Put stack model together\n",
        "model_6 = tf.keras.Model(inputs = stack_input,\n",
        "                         outputs = forecast,\n",
        "                         name = \"model_7_nbeats\")\n",
        "\n",
        "# Compile model with MAE loss\n",
        "model_6.compile(loss = \"mae\",\n",
        "                optimizer = \"adam\")   \n",
        "\n",
        "# Fit the model with early stopping and LR plateau\n",
        "history_6 = model_6.fit(train_dataset,\n",
        "                        epochs = N_EPOCHS,\n",
        "                        validation_data = test_dataset,\n",
        "                        verbose = 0,\n",
        "                        callbacks = [tf.keras.callbacks.EarlyStopping(monitor = \"val_loss\",\n",
        "                                                                      patience = 200,\n",
        "                                                                      restore_best_weights = True),\n",
        "                                     tf.keras.callbacks.ReduceLROnPlateau(monitor = \"val_loss\",\n",
        "                                                                          factor = 0.1,\n",
        "                                                                          patience = 100,\n",
        "                                                                          verbose = 1)])\n",
        "\n"
      ]
    },
    {
      "cell_type": "code",
      "execution_count": null,
      "metadata": {
        "colab": {
          "base_uri": "https://localhost:8080/",
          "height": 295
        },
        "id": "K6--yZ60w3WG",
        "outputId": "bee1570d-6c1a-4f21-e58f-4b063c4a89f4"
      },
      "outputs": [
        {
          "output_type": "display_data",
          "data": {
            "text/plain": [
              "<Figure size 432x288 with 1 Axes>"
            ],
            "image/png": "[encoded data removed]"
          },
          "metadata": {
            "needs_background": "light"
          }
        }
      ],
      "source": [
        "loss_curves(history_6)"
      ]
    },
    {
      "cell_type": "code",
      "execution_count": null,
      "metadata": {
        "colab": {
          "base_uri": "https://localhost:8080/"
        },
        "id": "8ffglhgOw3aH",
        "outputId": "20e1919d-2ae4-453e-a963-b447fd6ae516"
      },
      "outputs": [
        {
          "output_type": "stream",
          "name": "stdout",
          "text": [
            "1/1 [==============================] - 0s 20ms/step - loss: 576.9384\n"
          ]
        },
        {
          "output_type": "execute_result",
          "data": {
            "text/plain": [
              "576.9384155273438"
            ]
          },
          "metadata": {},
          "execution_count": 99
        }
      ],
      "source": [
        "model_6.evaluate(test_dataset)"
      ]
    },
    {
      "cell_type": "code",
      "execution_count": null,
      "metadata": {
        "colab": {
          "base_uri": "https://localhost:8080/"
        },
        "id": "T1HsvNvnw3e2",
        "outputId": "2a2da442-cd2a-405c-d9ca-5345e96817e9"
      },
      "outputs": [
        {
          "output_type": "execute_result",
          "data": {
            "text/plain": [
              "<tf.Tensor: shape=(10,), dtype=float32, numpy=\n",
              "array([8843.784 , 8775.991 , 9019.274 , 8738.393 , 8746.173 , 8747.784 ,\n",
              "       8660.936 , 8479.6045, 8484.671 , 8506.627 ], dtype=float32)>"
            ]
          },
          "metadata": {},
          "execution_count": 100
        }
      ],
      "source": [
        "model_6_preds = make_preds(model_6, test_dataset)\n",
        "model_6_preds[:10]"
      ]
    },
    {
      "cell_type": "code",
      "execution_count": null,
      "metadata": {
        "colab": {
          "base_uri": "https://localhost:8080/"
        },
        "id": "wl6km_-cw3lB",
        "outputId": "183ad102-7f02-4cd7-c9d9-7d114829bdfa"
      },
      "outputs": [
        {
          "output_type": "execute_result",
          "data": {
            "text/plain": [
              "{'mae': 576.9384,\n",
              " 'mape': 2.605957,\n",
              " 'mase': 1.013521,\n",
              " 'mse': 1167544.4,\n",
              " 'rmse': 1080.5297}"
            ]
          },
          "metadata": {},
          "execution_count": 101
        }
      ],
      "source": [
        "model_6_results = evaluate_preds(y_test, model_6_preds)\n",
        "model_6_results"
      ]
    },
    {
      "cell_type": "markdown",
      "metadata": {
        "id": "bkLCnNIb4ltM"
      },
      "source": [
        "### Plot the nbeats model"
      ]
    },
    {
      "cell_type": "code",
      "execution_count": null,
      "metadata": {
        "id": "VFiSmpjbw3o6"
      },
      "outputs": [],
      "source": [
        "# Plot the nbeats model using tensorflow plot\n",
        "from tensorflow.keras.utils import plot_model\n",
        "# plot_model(model_6)"
      ]
    },
    {
      "cell_type": "markdown",
      "metadata": {
        "id": "lV4DHjVJ6RQQ"
      },
      "source": [
        "## Model 4: Ensemble Model Experiment (Optional)"
      ]
    },
    {
      "cell_type": "markdown",
      "metadata": {
        "id": "REo4jUnYSC7O"
      },
      "source": [
        "### Setting up custom loss functions\n",
        "\n",
        "1. SMAPE\n",
        "2. MASE"
      ]
    },
    {
      "cell_type": "code",
      "execution_count": null,
      "metadata": {
        "id": "E3xloffnSCOD"
      },
      "outputs": [],
      "source": [
        "\n",
        "class SMAPE(keras.losses.Loss):\n",
        "    def __init__(self, epsilon=0.1, name=\"smape\"):\n",
        "        super().__init__(name=name)\n",
        "        self.epsilon = epsilon\n",
        "\n",
        "    def call(self, y_true, y_pred):\n",
        "        summ = K.maximum(K.abs(y_true) + K.abs(y_pred) + self.epsilon, 0.5 + self.epsilon)\n",
        "        smape = K.abs(y_pred - y_true) / summ * 2.0\n",
        "        return smape\n",
        "\n",
        "\n",
        "class MASE(keras.losses.Loss):\n",
        "    def __init__(self, y_train, name=\"MASE\"):\n",
        "        super().__init__(name=name)\n",
        "        self.y_train = y_train\n",
        "\n",
        "    def call(self, y_true, y_pred):\n",
        "        e_t = y_true - y_pred\n",
        "        scale = mean_absolute_error(self.y_train[1:], self.y_train[:-1])\n",
        "        return tf.math.reduce_mean(K.abs(e_t / scale))\n"
      ]
    },
    {
      "cell_type": "markdown",
      "metadata": {
        "id": "qfDVLvP9i56Z"
      },
      "source": [
        "### Preparing data for ensemble modelling"
      ]
    },
    {
      "cell_type": "code",
      "execution_count": null,
      "metadata": {
        "id": "d8YoK0eViWX8"
      },
      "outputs": [],
      "source": [
        "def create_train_test_datasets(df, WINDOW_SIZE):\n",
        "\n",
        "  #create Windows based on Window Size\n",
        "  bitcoin_prices_nbeats = df.copy()\n",
        "  for i in range(WINDOW_SIZE):\n",
        "    bitcoin_prices_nbeats[f\"Close+{i+1}\"] = bitcoin_prices_nbeats[\"Close\"].shift(periods=i+1)\n",
        "  bitcoin_prices_nbeats = bitcoin_prices_nbeats.dropna()\n",
        "\n",
        "  # Separate Dependent and Independent Variables\n",
        "  X = bitcoin_prices_nbeats.dropna().drop(\"Close\", axis=1)\n",
        "  y = bitcoin_prices_nbeats.dropna()[\"Close\"]\n",
        "  print(f\"Window size : {WINDOW_SIZE}, Shape of X : {X.shape}, Shape of y : {y.shape}\")\n",
        "\n",
        "  # Make train and test sets\n",
        "  split_size = int(len(X) * 0.8)\n",
        "  X_train, y_train = X[:split_size], y[:split_size]\n",
        "  X_test, y_test = X[split_size:], y[split_size:]\n",
        "\n",
        "\n",
        "  # 1. Turn train and test arrays into tensor Datasets\n",
        "  train_features_dataset = tf.data.Dataset.from_tensor_slices(X_train)\n",
        "  train_labels_dataset = tf.data.Dataset.from_tensor_slices(y_train)\n",
        "\n",
        "  test_features_dataset = tf.data.Dataset.from_tensor_slices(X_test)\n",
        "  test_labels_dataset = tf.data.Dataset.from_tensor_slices(y_test)\n",
        "\n",
        "  # 2. Combine features & labels\n",
        "  train_dataset = tf.data.Dataset.zip((train_features_dataset, train_labels_dataset))\n",
        "  test_dataset = tf.data.Dataset.zip((test_features_dataset, test_labels_dataset))\n",
        "\n",
        "  # 3. Batch and prefetch for optimal performance\n",
        "  BATCH_SIZE = 1024 # taken from Appendix D in N-BEATS paper\n",
        "  train_dataset = train_dataset.batch(BATCH_SIZE).prefetch(tf.data.AUTOTUNE)\n",
        "  test_dataset = test_dataset.batch(BATCH_SIZE).prefetch(tf.data.AUTOTUNE)\n",
        "\n",
        "  return train_dataset, test_dataset, y_train"
      ]
    },
    {
      "cell_type": "markdown",
      "metadata": {
        "id": "3Aa2fFBLnpAH"
      },
      "source": [
        "### Setting up parameters for ENSEMBLE NBEATS MODEL"
      ]
    },
    {
      "cell_type": "code",
      "execution_count": null,
      "metadata": {
        "id": "UorEAhWNnfc3"
      },
      "outputs": [],
      "source": [
        "HORIZON = 1\n",
        "WINDOW_SIZES = [2,3,4,5,6,7]\n",
        "N_EPOCHS = 5000\n",
        "N_NEURONS = 512\n",
        "N_LAYERS = 4\n",
        "N_STACKS = 30"
      ]
    },
    {
      "cell_type": "markdown",
      "source": [
        "### Training and Fitting data on Ensemble Model "
      ],
      "metadata": {
        "id": "XWid6URbM7UG"
      }
    },
    {
      "cell_type": "code",
      "execution_count": null,
      "metadata": {
        "id": "zPYHwvXaw3s4",
        "colab": {
          "base_uri": "https://localhost:8080/"
        },
        "outputId": "8fa01c91-eb96-46f4-c654-d9ecef10dc8b"
      },
      "outputs": [
        {
          "output_type": "stream",
          "name": "stdout",
          "text": [
            "Window size : 2, Shape of X : (2785, 2), Shape of y : (2785,)\n",
            "Model 1 : Optimizing model by reducing: mae for input size (Windows * Horizon) 2\n",
            "\n",
            "Epoch 322: ReduceLROnPlateau reducing learning rate to 0.00010000000474974513.\n",
            "\n",
            "Epoch 422: ReduceLROnPlateau reducing learning rate to 1.0000000474974514e-05.\n",
            "Model 1 : Optimizing model by reducing: mse for input size (Windows * Horizon) 2\n",
            "\n",
            "Epoch 358: ReduceLROnPlateau reducing learning rate to 0.00010000000474974513.\n"
          ]
        }
      ],
      "source": [
        "%%time\n",
        "ensemble_models = []\n",
        "for pos, WINDOW_SIZE in enumerate(WINDOW_SIZES):\n",
        "\n",
        "  train_dataset, test_dataset, y_train = create_train_test_datasets(df, WINDOW_SIZE)\n",
        "  # LOSS_FNS = [MASE(y_train), SMAPE(), \"mape\"]\n",
        "\n",
        "  LOSS_FNS = [\"mae\", \"mse\", \"mape\"]\n",
        "  INPUT_SIZE = WINDOW_SIZE * HORIZON\n",
        "  THETA_SIZE = INPUT_SIZE + HORIZON\n",
        "  \n",
        "  for loss_function in LOSS_FNS:\n",
        "    print(f\"Model {pos+1} : Optimizing model by reducing: {loss_function} for input size (Windows * Horizon) {INPUT_SIZE}\")\n",
        "\n",
        "    # Setup an Instance of NBeats Block Layer using \"NBeatsBlock\"\n",
        "    nbeats_block_layer = NBeatsBlock(input_size = INPUT_SIZE,\n",
        "                                    theta_size = THETA_SIZE,\n",
        "                                    horizon = HORIZON,\n",
        "                                    n_neurons = N_NEURONS,\n",
        "                                    n_layers = N_LAYERS,\n",
        "                                    name = \"InitialBlock\")\n",
        "\n",
        "    #Create an input for nbeats stack\n",
        "    stack_input = layers.Input(shape = (INPUT_SIZE), name = \"stack_input\")\n",
        "\n",
        "    # Create initial backcast and forecast input (backward prediction and forward prediction)\n",
        "    residuals, forecast = nbeats_block_layer(stack_input)\n",
        "\n",
        "    # Create a for loop for stacks of block layes\n",
        "    for i, _ in enumerate(range(N_STACKS-1)):\n",
        "\n",
        "      # use the nbeats block to calculate the backcast and forecast\n",
        "      backcast, block_forecast = NBeatsBlock(\n",
        "          input_size = INPUT_SIZE,\n",
        "          theta_size = THETA_SIZE,\n",
        "          horizon = HORIZON,\n",
        "          n_neurons = N_NEURONS,\n",
        "          n_layers = N_LAYERS,\n",
        "          name = f\"NBeatsBlock_{i}\"\n",
        "      )(residuals)  # pass in the residuals as input\n",
        "\n",
        "      # create the double residual stacking using tf.layers.add and tf.layers.subtract\n",
        "      residuals = layers.subtract([residuals,backcast], name = f\"subtract_{i}\")\n",
        "      forecast =layers.add([forecast, block_forecast], name = f\"add_{i}\")\n",
        "\n",
        "    # Put stack model together\n",
        "    model = tf.keras.Model(inputs = stack_input,\n",
        "                            outputs = forecast,\n",
        "                            name = \"model_nbeats_ensemble\")\n",
        "\n",
        "    # Compile model with MAE loss\n",
        "    model.compile(loss = loss_function,\n",
        "                    optimizer = \"adam\")   \n",
        "\n",
        "    # Fit the model with early stopping and LR plateau\n",
        "    history = model.fit(train_dataset,\n",
        "                            epochs = N_EPOCHS,\n",
        "                            validation_data = test_dataset,\n",
        "                            verbose = 0,\n",
        "                            callbacks = [tf.keras.callbacks.EarlyStopping(monitor = \"val_loss\",\n",
        "                                                                          patience = 200,\n",
        "                                                                          restore_best_weights = True),\n",
        "                                        tf.keras.callbacks.ReduceLROnPlateau(monitor = \"val_loss\",\n",
        "                                                                              factor = 0.1,\n",
        "                                                                              patience = 100,\n",
        "                                                                              verbose = 1)])\n",
        "    \n",
        "    ensemble_models.append(model)\n",
        "\n",
        "\n",
        "    \n",
        "\n",
        "                      \n"
      ]
    },
    {
      "cell_type": "code",
      "execution_count": null,
      "metadata": {
        "id": "VW6SHzxow3wz"
      },
      "outputs": [],
      "source": [
        "ensemble_models"
      ]
    },
    {
      "cell_type": "code",
      "source": [
        "# Create a list of ensemble predictions\n",
        "from itertools import repeat\n",
        "test_datasets = []\n",
        "for pos, WINDOW_SIZE in enumerate(WINDOW_SIZES):\n",
        "\n",
        "  train_dataset, test_dataset, y_train = create_train_test_datasets(df, WINDOW_SIZE)\n",
        "  test_datasets.extend(repeat(test_dataset, 3))\n",
        "\n",
        "\n",
        "test_datasets"
      ],
      "metadata": {
        "id": "ZvqXE9COEVua"
      },
      "execution_count": null,
      "outputs": []
    },
    {
      "cell_type": "code",
      "source": [
        "def make_ensemble_preds(ensemble_models, test_datasets):\n",
        "  ensemble_preds = []\n",
        "  for i in range(len(ensemble_models)):\n",
        "    preds = make_preds(ensemble_models[i], test_datasets[i])\n",
        "    if len(preds) == len(y_test):\n",
        "      ensemble_preds.append(preds)\n",
        "    else:\n",
        "      ensemble_preds.append(preds[:-1])\n",
        "  return tf.constant(tf.squeeze(ensemble_preds))\n"
      ],
      "metadata": {
        "id": "zby-k8ZxOb5k"
      },
      "execution_count": null,
      "outputs": []
    },
    {
      "cell_type": "code",
      "source": [
        "ensemble_preds = make_ensemble_preds(ensemble_models, test_datasets)\n",
        "ensemble_preds"
      ],
      "metadata": {
        "id": "RoNjpltjOb-z"
      },
      "execution_count": null,
      "outputs": []
    },
    {
      "cell_type": "code",
      "source": [
        "ensemble_results = evaluate_preds(y_true=y_test,\n",
        "                                  y_pred=np.mean(ensemble_preds, axis=0)) # take the median across all ensemble predictions\n",
        "ensemble_results"
      ],
      "metadata": {
        "id": "yiwVAoo1OcHo"
      },
      "execution_count": null,
      "outputs": []
    },
    {
      "cell_type": "code",
      "source": [
        ""
      ],
      "metadata": {
        "id": "LuaFBpACEZ5o"
      },
      "execution_count": null,
      "outputs": []
    },
    {
      "cell_type": "code",
      "source": [
        ""
      ],
      "metadata": {
        "id": "m1ilCpM2EZ9D"
      },
      "execution_count": null,
      "outputs": []
    }
  ],
  "metadata": {
    "accelerator": "GPU",
    "colab": {
      "collapsed_sections": [
        "o7zW2aWgctUk"
      ],
      "name": "TimeSeries_Tensorflow_nbeats.ipynb",
      "provenance": [],
      "toc_visible": true
    },
    "gpuClass": "standard",
    "kernelspec": {
      "display_name": "Python 3",
      "name": "python3"
    },
    "language_info": {
      "name": "python"
    }
  },
  "nbformat": 4,
  "nbformat_minor": 0
}